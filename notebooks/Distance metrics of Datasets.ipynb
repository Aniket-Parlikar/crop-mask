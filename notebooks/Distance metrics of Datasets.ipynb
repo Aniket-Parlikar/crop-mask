{
 "cells": [
  {
   "cell_type": "markdown",
   "id": "dc500555",
   "metadata": {},
   "source": [
    "# Distance Metrics of Datasets\n",
    "<hr style=\"border:0.01px solid gray\"> </hr>\n",
    "\n",
    "**Author**: Maryann Vazhapilly (marvaz@umd.edu)\n",
    "\n",
    "**Description**: The purpose of this notebook is to display the distance metrics of all the datasets of the data/processed directory in the crop-mask repository. Distance metrics collected also reflect the average distance(mean), min, and max between training, testing, and validation sets, the density, and total number of points in every dataset. Data is collected and displayed in a tabular format."
   ]
  },
  {
   "cell_type": "code",
   "execution_count": 1,
   "id": "27f4a40f",
   "metadata": {},
   "outputs": [],
   "source": [
    "# Import libraries\n",
    "import pandas as pd\n",
    "import numpy as np\n",
    "import matplotlib.pyplot as plt\n",
    "import math\n",
    "%matplotlib inline"
   ]
  },
  {
   "cell_type": "code",
   "execution_count": 2,
   "id": "19ce2d94",
   "metadata": {},
   "outputs": [
    {
     "name": "stdout",
     "output_type": "stream",
     "text": [
      "Number of datasets:  24\n",
      "['Ethiopia', 'open_buildings', 'geowiki_landcover_2017', 'Mali_lower_CEO_2019', 'digitalearthafrica_sahel', 'Malawi_FAO_corrected', 'Togo', 'Malawi_CEO_2019', 'Mali', 'Tanzania_CEO_2019', 'Mali_upper_CEO_2019', 'Malawi_CEO_2020', 'Uganda', 'Malawi_FAO', 'Zambia_CEO_2019', 'one_acre_fund', 'Ethiopia_Tigray_2020', 'Ethiopia_Tigray_2021', 'Ethiopia_Bure_Jimma_2020', 'digitalearthafrica_eastern', 'Kenya', 'Rwanda', 'Argentina_Buenos_Aires', 'Ethiopia_Bure_Jimma_2019']\n"
     ]
    }
   ],
   "source": [
    "# Get all processed datasets in crop-mask repo\n",
    "import glob\n",
    "import os\n",
    "datasets = []\n",
    "names = []\n",
    "for file_name in glob.glob('/Users/spiderman/Downloads/GitHub/crop-mask/data/processed'+'/*.csv'):\n",
    "    x = pd.read_csv(file_name)\n",
    "    datasets.append(x)\n",
    "    base=os.path.basename(file_name)\n",
    "    names.append(os.path.splitext(base)[0])\n",
    "print(\"Number of datasets: \", len(datasets))\n",
    "print(names)"
   ]
  },
  {
   "cell_type": "code",
   "execution_count": 3,
   "id": "a3d8be63",
   "metadata": {},
   "outputs": [],
   "source": [
    "# Function to calculate distance\n",
    "# https://gist.github.com/rochacbruno/2883505\n",
    "def distance(origin, destination):\n",
    "    lat1, lon1 = origin\n",
    "    lat2, lon2 = destination\n",
    "    radius = 6371 # km\n",
    "\n",
    "    dlat = math.radians(lat2-lat1)\n",
    "    dlon = math.radians(lon2-lon1)\n",
    "    a = math.sin(dlat/2) * math.sin(dlat/2) + math.cos(math.radians(lat1)) \\\n",
    "        * math.cos(math.radians(lat2)) * math.sin(dlon/2) * math.sin(dlon/2)\n",
    "    c = 2 * math.atan2(math.sqrt(a), math.sqrt(1-a))\n",
    "    d = radius * c\n",
    "    return d"
   ]
  },
  {
   "cell_type": "code",
   "execution_count": 4,
   "id": "20c01a35",
   "metadata": {},
   "outputs": [],
   "source": [
    "# Function to calculate average, min, and max distance\n",
    "# Adapted from notebook Distance_between_points.ipynb\n",
    "def distance_metrics(dataframe1, dataframe2):\n",
    "    total_sum = 0\n",
    "    min_distance = math.inf\n",
    "    max_distance = 0\n",
    "    current_distance = 0\n",
    "    distances = []\n",
    "    for row in dataframe1.itertuples():\n",
    "        for row2 in dataframe2.itertuples():\n",
    "            current_distance = distance((row.lat, row.lon),(row2.lat, row2.lon))\n",
    "            total_sum += current_distance\n",
    "            distances.append(current_distance)\n",
    "            if current_distance < min_distance and not (row.lat == row2.lat and row.lon == row2.lon):\n",
    "                min_distance = current_distance\n",
    "            if current_distance > max_distance:\n",
    "                max_distance = current_distance\n",
    "    avg_distance = total_sum / (len(dataframe1)*len(dataframe2))\n",
    "    return avg_distance, min_distance, max_distance"
   ]
  },
  {
   "cell_type": "code",
   "execution_count": 5,
   "id": "1719b23d",
   "metadata": {},
   "outputs": [],
   "source": [
    "# COMMENT FOR THE FUTURE: make a function to convert between units"
   ]
  },
  {
   "cell_type": "code",
   "execution_count": 6,
   "id": "dbb0e83f",
   "metadata": {},
   "outputs": [],
   "source": [
    "# Function to return a number converted from degrees to km\n",
    "def convert_degrees_to_km(num):\n",
    "    return num * 111"
   ]
  },
  {
   "cell_type": "code",
   "execution_count": 7,
   "id": "12fb1aad",
   "metadata": {},
   "outputs": [],
   "source": [
    "# Function to create bounding box(area(km)) given a dataset\n",
    "def bounding_box_area(df):\n",
    "    minX = min(df[\"lon\"])\n",
    "    maxX = max(df[\"lon\"])\n",
    "    minY = min(df[\"lat\"])\n",
    "    maxY = max(df[\"lat\"])\n",
    "    area = abs(convert_degrees_to_km(maxX - minX)) * abs(convert_degrees_to_km(maxY - minY))\n",
    "    return area"
   ]
  },
  {
   "cell_type": "code",
   "execution_count": 8,
   "id": "a2e9fd39",
   "metadata": {},
   "outputs": [],
   "source": [
    "# Function to return density per 100km^2 given area and dataset\n",
    "def density(area, df):\n",
    "    return (len(df)/area)*100"
   ]
  },
  {
   "cell_type": "code",
   "execution_count": 14,
   "id": "35a61927",
   "metadata": {},
   "outputs": [
    {
     "name": "stdout",
     "output_type": "stream",
     "text": [
      "{'Ethiopia': [[4513, 43760.095, 10.313], [4513, 10.313, 61.35, 0.0, 274.766], [' ', ' ', ' ', ' ', ' '], [' ', ' ', ' ', ' ', ' '], [' ', ' ', ' '], [' ', ' ', ' '], [' ', ' ', ' ']], 'open_buildings': [[8121, 267412.276, 3.037], [8121, 3.037, 223.55, 0.005, 721.971], [' ', ' ', ' ', ' ', ' '], [' ', ' ', ' ', ' ', ' '], [' ', ' ', ' '], [' ', ' ', ' '], [' ', ' ', ' ']], 'Mali_lower_CEO_2019': [[621, 96533.793, 0.643], [' ', ' ', ' ', ' ', ' '], [312, 0.323, 171.721, 8.005, 450.712], [309, 0.32, 171.51, 8.004, 449.523], [' ', ' ', ' '], [171.964, 8.004, 457.609], [' ', ' ', ' ']], 'digitalearthafrica_sahel': [[1683, 21500211.207, 0.008], [1683, 0.008, 2350.942, 0.0, 7309.416], [' ', ' ', ' ', ' ', ' '], [' ', ' ', ' ', ' ', ' '], [' ', ' ', ' '], [' ', ' ', ' '], [' ', ' ', ' ']], 'Malawi_FAO_corrected': [[511, 221470.775, 0.231], [511, 0.231, 283.74, 0.029, 786.829], [' ', ' ', ' ', ' ', ' '], [' ', ' ', ' ', ' ', ' '], [' ', ' ', ' '], [' ', ' ', ' '], [' ', ' ', ' ']], 'Togo': [[1631, 118554.977, 1.376], [999, 0.858, 215.453, 0.024, 581.959], [355, 0.333, 178.635, 0.246, 559.313], [277, 0.251, 219.403, 0.037, 571.628], [217.685, 0.003, 577.803], [209.631, 0.154, 576.447], [205.684, 0.047, 580.613]], 'Malawi_CEO_2019': [[1200, 347386.638, 0.345], [1200, 0.345, 350.944, 0.027, 943.732], [' ', ' ', ' ', ' ', ' '], [' ', ' ', ' ', ' ', ' '], [' ', ' ', ' '], [' ', ' ', ' '], [' ', ' ', ' ']], 'Mali': [[897, 126846.548, 0.707], [897, 0.707, 154.547, 0.0, 397.827], [' ', ' ', ' ', ' ', ' '], [' ', ' ', ' ', ' ', ' '], [' ', ' ', ' '], [' ', ' ', ' '], [' ', ' ', ' ']], 'Tanzania_CEO_2019': [[5428, 1654954.225, 0.328], [' ', ' ', ' ', ' ', ' '], [2721, 0.164, 663.561, 0.006, 1797.736], [2707, 0.164, 660.991, 0.001, 1817.697], [' ', ' ', ' '], [662.466, 0.003, 1818.098], [' ', ' ', ' ']], 'Mali_upper_CEO_2019': [[702, 152505.781, 0.46], [' ', ' ', ' ', ' ', ' '], [339, 0.222, 205.121, 6.802, 514.69], [363, 0.242, 198.09, 6.798, 510.452], [' ', ' ', ' '], [202.027, 6.799, 522.887], [' ', ' ', ' ']], 'Malawi_CEO_2020': [[1200, 347386.638, 0.345], [605, 0.174, 352.105, 0.027, 937.055], [' ', ' ', ' ', ' ', ' '], [595, 0.171, 349.463, 0.218, 937.867], [351.082, 0.039, 943.732], [' ', ' ', ' '], [' ', ' ', ' ']], 'Uganda': [[3670, 62700166.325, 0.006], [2595, 0.004, 317.967, 0.0, 8601.337], [539, 0.122, 355.208, 0.02, 910.769], [536, 0.124, 350.125, 0.045, 910.727], [348.312, 0.02, 8508.005], [353.071, 0.072, 911.236], [350.258, 0.145, 8530.762]], 'Malawi_FAO': [[514, 220982.412, 0.233], [514, 0.233, 290.497, 0.001, 787.234], [' ', ' ', ' ', ' ', ' '], [' ', ' ', ' ', ' ', ' '], [' ', ' ', ' '], [' ', ' ', ' '], [' ', ' ', ' ']], 'Zambia_CEO_2019': [[2399, 1497207.733, 0.16], [2399, 0.16, 638.905, 0.027, 1718.774], [' ', ' ', ' ', ' ', ' '], [' ', ' ', ' ', ' ', ' '], [' ', ' ', ' '], [' ', ' ', ' '], [' ', ' ', ' ']], 'one_acre_fund': [[3325, 330294.319, 1.007], [3325, 1.007, 355.902, 0.002, 821.789], [' ', ' ', ' ', ' ', ' '], [' ', ' ', ' ', ' ', ' '], [' ', ' ', ' '], [' ', ' ', ' '], [' ', ' ', ' ']], 'Ethiopia_Tigray_2020': [[1200, 112961.55, 1.062], [' ', ' ', ' ', ' ', ' '], [612, 0.556, 178.782, 0.044, 471.232], [588, 0.521, 176.322, 0.043, 462.194], [' ', ' ', ' '], [177.751, 0.027, 470.757], [' ', ' ', ' ']], 'Ethiopia_Tigray_2021': [[886, 112397.486, 0.788], [' ', ' ', ' ', ' ', ' '], [444, 0.395, 177.213, 7.632, 460.238], [442, 0.393, 178.597, 7.63, 455.745], [' ', ' ', ' '], [178.192, 7.63, 461.966], [' ', ' ', ' ']], 'Ethiopia_Bure_Jimma_2020': [[1200, 68005.163, 1.765], [' ', ' ', ' ', ' ', ' '], [598, 0.883, 145.345, 0.044, 408.892], [602, 0.885, 147.838, 0.02, 404.123], [' ', ' ', ' '], [146.889, 0.028, 407.867], [' ', ' ', ' ']], 'digitalearthafrica_eastern': [[4452, 5843395.019, 0.076], [4452, 0.076, 920.42, 0.011, 2916.335], [' ', ' ', ' ', ' ', ' '], [' ', ' ', ' ', ' ', ' '], [' ', ' ', ' '], [' ', ' ', ' '], [' ', ' ', ' ']], 'Kenya': [[8659, 916032.025, 0.945], [6877, 0.751, 174.819, 0.001, 1074.068], [902, 0.117, 165.019, 0.006, 1015.907], [880, 0.115, 162.894, 0.006, 1020.503], [168.974, 0.001, 1073.971], [164.127, 0.004, 1019.565], [169.998, 0.001, 1073.259]], 'Rwanda': [[1365, 72082.026, 1.894], [287, 0.401, 112.324, 0.02, 358.242], [540, 0.75, 143.365, 0.134, 375.394], [538, 0.747, 141.513, 0.0, 376.172], [129.068, 0.023, 369.372], [142.633, 0.045, 375.999], [130.012, 0.024, 368.76]], 'Argentina_Buenos_Aires': [[658, 330916.269, 0.199], [529, 0.162, 215.345, 0.0, 591.731], [' ', ' ', ' ', ' ', ' '], [129, 0.044, 212.051, 0.0, 558.343], [214.611, 0.0, 591.798], [' ', ' ', ' '], [' ', ' ', ' ']], 'Ethiopia_Bure_Jimma_2019': [[1200, 67997.98, 1.765], [' ', ' ', ' ', ' ', ' '], [588, 0.866, 149.998, 0.02, 401.109], [612, 0.9, 150.671, 0.088, 394.114], [' ', ' ', ' '], [150.5, 0.02, 397.9], [' ', ' ', ' ']]}\n"
     ]
    }
   ],
   "source": [
    "# Get information for number of points, area, density, and\n",
    "# average, min, and max distances for all datasets and put\n",
    "# into dictionary\n",
    "dict_data = {}\n",
    "for i in range(0, len(datasets)):\n",
    "    df = datasets[i]\n",
    "    df = df[['lon','lat','subset']]\n",
    "    if i == 2:\n",
    "        continue\n",
    "    unique_groups = df.subset.unique()\n",
    "    grouped = df.groupby(df.subset)\n",
    "    \n",
    "    # Get distance metrics for training, testing, and validation subsets\n",
    "    if 'training' in unique_groups:\n",
    "        train = grouped.get_group(\"training\")\n",
    "        train = train.drop(['subset'], axis=1)\n",
    "        train_avg, train_min, train_max = distance_metrics(train, train)\n",
    "        train_avg, train_min, train_max = round(train_avg,3), round(train_min,3), round(train_max,3)\n",
    "    else:\n",
    "        train_avg = train_min = train_max = -1\n",
    "    if 'testing' in unique_groups:\n",
    "        test = grouped.get_group(\"testing\")\n",
    "        test = test.drop(['subset'], axis=1)\n",
    "        test_avg, test_min, test_max = distance_metrics(test, test)\n",
    "        test_avg, test_min, test_max = round(test_avg,3), round(test_min,3), round(test_max,3)\n",
    "    else:\n",
    "        test_avg = test_min = test_max = -1\n",
    "    if 'validation' in unique_groups:\n",
    "        val = grouped.get_group(\"validation\")\n",
    "        val = val.drop(['subset'], axis=1)\n",
    "        val_avg, val_min, val_max = distance_metrics(val, val)\n",
    "        val_avg, val_min, val_max = round(val_avg,3), round(val_min,3), round(val_max,3)\n",
    "    else:\n",
    "        val_avg = val_min = val_max = -1\n",
    "    if train_avg != -1 and val_avg != -1:\n",
    "        train_val_avg, train_val_min, train_val_max = distance_metrics(train, val)\n",
    "        train_val_avg, train_val_min, train_val_max = round(train_val_avg,3), round(train_val_min,3), round(train_val_max,3)\n",
    "    else:\n",
    "        train_val_avg = train_val_min = train_val_max = \" \"\n",
    "    if test_avg != -1 and val_avg != -1:\n",
    "        test_val_avg, test_val_min, test_val_max = distance_metrics(test, val)\n",
    "        test_val_avg, test_val_min, test_val_max = round(test_val_avg,3), round(test_val_min,3), round(test_val_max,3)\n",
    "    else:\n",
    "        test_val_avg = test_val_min = test_val_max = \" \"\n",
    "    if train_avg != -1 and test_avg != -1:\n",
    "        train_test_avg, train_test_min, train_test_max = distance_metrics(train, test)\n",
    "        train_test_avg, train_test_min, train_test_max = round(train_test_avg,3), round(train_test_min,3), round(train_test_max,3)\n",
    "    else:\n",
    "        train_test_avg = train_test_min = train_test_max = \" \"\n",
    "    \n",
    "    # Add total number of points, area, and density to dictionary\n",
    "    area = bounding_box_area(df)\n",
    "    dens = density(area, df)\n",
    "    dict_data[names[i]] = [[len(df), round(area,3), round(dens,3)]]\n",
    "    \n",
    "    # Add train, test, and val metrics to dictionary\n",
    "    if train_avg == -1:\n",
    "        train_avg = train_min = train_max = \" \"\n",
    "        dict_data[names[i]].append([\" \", \" \", train_avg, train_min, train_max])\n",
    "    else:\n",
    "        train_area = bounding_box_area(train)\n",
    "        train_dens = density(train_area, train)\n",
    "        dict_data[names[i]].append([len(train), round(train_dens,3), train_avg, train_min, train_max])\n",
    "    if test_avg == -1:\n",
    "        test_avg = test_min = test_max = \" \"\n",
    "        dict_data[names[i]].append([\" \", \" \", test_avg, test_min, test_max])\n",
    "    else:\n",
    "        test_area = bounding_box_area(test)\n",
    "        test_dens = density(test_area, test)\n",
    "        dict_data[names[i]].append([len(test), round(test_dens,3), test_avg, test_min, test_max])\n",
    "    if val_avg == -1:\n",
    "        val_avg = val_min = val_max = \" \"\n",
    "        dict_data[names[i]].append([\" \", \" \", val_avg, val_min, val_max])\n",
    "    else:\n",
    "        val_area = bounding_box_area(val)\n",
    "        val_dens = density(val_area, val)\n",
    "        dict_data[names[i]].append([len(val), round(val_dens,3), val_avg, val_min, val_max])\n",
    "    \n",
    "    # Add train+val, test+val, and train+test metrics to dictionary\n",
    "    dict_data[names[i]].append([train_val_avg, train_val_min, train_val_max])\n",
    "    dict_data[names[i]].append([test_val_avg, test_val_min, test_val_max])\n",
    "    dict_data[names[i]].append([train_test_avg, train_test_min, train_test_max])\n",
    "print(dict_data)"
   ]
  },
  {
   "cell_type": "code",
   "execution_count": 18,
   "id": "9354d268",
   "metadata": {},
   "outputs": [
    {
     "name": "stdout",
     "output_type": "stream",
     "text": [
      "done\n"
     ]
    }
   ],
   "source": [
    "# Write information to table in 'test.csv'\n",
    "# Can add more columns to table if needed by adding value\n",
    "# to each writerow statement\n",
    "import csv\n",
    "with open('test.csv','w') as f:\n",
    "    writer = csv.writer(f)\n",
    "    writer.writerow([\" \", \" \", \" \", \" \",\n",
    "                     \"TRAIN\", \" \", \" \", \" \", \" \",\n",
    "                     \"TEST\", \" \", \" \", \" \", \" \",\n",
    "                     \"VAL\", \" \", \" \", \" \", \" \",\n",
    "                     \"TRAIN+VAL\", \" \", \" \",\n",
    "                     \"TEST+VAL\", \" \", \" \",\n",
    "                     \"TRAIN+TEST\", \" \", \" \"])\n",
    "    writer.writerow([\"NAME\", \"TOTAL NUM OF POINTS\", \"AREA(km^2)\", \"DENSITY(100km^2)\",\n",
    "                     \"TRAIN NUM OF POINTS\", \"TRAIN DENSITY(100km^2)\", \"AVG(km)\",\"MIN(km)\",\"MAX(km)\",\n",
    "                     \"TEST NUM OF POINTS\", \"TEST DENSITY(100km^2)\", \"AVG(km)\",\"MIN(km)\",\"MAX(km)\",\n",
    "                     \"VAL NUM OF POINTS\", \"VAL DENSITY(100km^2)\", \"AVG(km)\",\"MIN(km)\",\"MAX(km)\",\n",
    "                     \"AVG(km)\",\"MIN(km)\",\"MAX(km)\",\n",
    "                     \"AVG(km)\",\"MIN(km)\",\"MAX(km)\",\n",
    "                     \"AVG(km)\",\"MIN(km)\",\"MAX(km)\"])\n",
    "    for k, v in dict_data.items():\n",
    "        writer.writerow([k, v[0][0], v[0][1], v[0][2],\n",
    "                        v[1][0], v[1][1], v[1][2], v[1][3], v[1][4],\n",
    "                        v[2][0], v[2][1], v[2][2], v[2][3], v[2][4],\n",
    "                        v[3][0], v[3][1], v[3][2], v[3][3], v[3][4],\n",
    "                        v[4][0], v[4][1], v[4][2],\n",
    "                        v[5][0], v[5][1], v[5][2],\n",
    "                        v[6][0], v[6][1], v[6][2]])\n",
    "print(\"done\")"
   ]
  },
  {
   "cell_type": "code",
   "execution_count": null,
   "id": "f562d786",
   "metadata": {},
   "outputs": [],
   "source": []
  }
 ],
 "metadata": {
  "kernelspec": {
   "display_name": "Python 3 (ipykernel)",
   "language": "python",
   "name": "python3"
  },
  "language_info": {
   "codemirror_mode": {
    "name": "ipython",
    "version": 3
   },
   "file_extension": ".py",
   "mimetype": "text/x-python",
   "name": "python",
   "nbconvert_exporter": "python",
   "pygments_lexer": "ipython3",
   "version": "3.7.11"
  }
 },
 "nbformat": 4,
 "nbformat_minor": 5
}
