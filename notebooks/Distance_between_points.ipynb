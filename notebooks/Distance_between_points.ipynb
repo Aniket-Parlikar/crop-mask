{
 "cells": [
  {
   "cell_type": "markdown",
   "id": "8aab1f57",
   "metadata": {},
   "source": [
    "# Distance between points\n",
    "<hr style=\"border:0.01px solid gray\"> </hr>\n",
    "\n",
    "**Author**: Maryann Vazhapilly (marvaz@umd.edu)\n",
    "\n",
    "**Description**: The purpose of this notebook is to test the spatial auto-corrleation between different locations in the Togo dataset. This includes assessing how far away different points are from each other on average, and also within the training and test sets. Distance metrics collected also reflect the average distance(mean), min, and max."
   ]
  },
  {
   "cell_type": "code",
   "execution_count": 12,
   "id": "2b10b82d",
   "metadata": {},
   "outputs": [],
   "source": [
    "# Import libraries\n",
    "import pandas as pd\n",
    "import numpy as np\n",
    "import matplotlib.pyplot as plt\n",
    "import math\n",
    "%matplotlib inline"
   ]
  },
  {
   "cell_type": "code",
   "execution_count": 13,
   "id": "9db0c30e",
   "metadata": {},
   "outputs": [],
   "source": [
    "# Import dataset --> this example uses Togo.csv\n",
    "df = pd.read_csv(\"/Users/spiderman/Downloads/GitHub/crop-mask/data/processed/Togo.csv\")"
   ]
  },
  {
   "cell_type": "code",
   "execution_count": 14,
   "id": "760ee144",
   "metadata": {
    "scrolled": true
   },
   "outputs": [
    {
     "data": {
      "text/html": [
       "<div>\n",
       "<style scoped>\n",
       "    .dataframe tbody tr th:only-of-type {\n",
       "        vertical-align: middle;\n",
       "    }\n",
       "\n",
       "    .dataframe tbody tr th {\n",
       "        vertical-align: top;\n",
       "    }\n",
       "\n",
       "    .dataframe thead th {\n",
       "        text-align: right;\n",
       "    }\n",
       "</style>\n",
       "<table border=\"1\" class=\"dataframe\">\n",
       "  <thead>\n",
       "    <tr style=\"text-align: right;\">\n",
       "      <th></th>\n",
       "      <th>lon</th>\n",
       "      <th>lat</th>\n",
       "      <th>start_date</th>\n",
       "      <th>end_date</th>\n",
       "      <th>source</th>\n",
       "      <th>crop_probability</th>\n",
       "      <th>num_labelers</th>\n",
       "      <th>subset</th>\n",
       "      <th>country</th>\n",
       "      <th>dataset</th>\n",
       "      <th>dest_tif</th>\n",
       "      <th>filename</th>\n",
       "    </tr>\n",
       "  </thead>\n",
       "  <tbody>\n",
       "    <tr>\n",
       "      <th>0</th>\n",
       "      <td>-0.166017</td>\n",
       "      <td>11.161904</td>\n",
       "      <td>2019-04-22</td>\n",
       "      <td>2020-04-16</td>\n",
       "      <td>noncrop_merged_v2</td>\n",
       "      <td>0.0</td>\n",
       "      <td>1</td>\n",
       "      <td>training</td>\n",
       "      <td>Togo</td>\n",
       "      <td>Togo</td>\n",
       "      <td>noncrop_merged_v2/0_2019-04-22_2020-04-16.tif</td>\n",
       "      <td>lat=11.16190392_lon=-0.1660175_date=2019-04-22...</td>\n",
       "    </tr>\n",
       "    <tr>\n",
       "      <th>1</th>\n",
       "      <td>-0.163856</td>\n",
       "      <td>11.163926</td>\n",
       "      <td>2019-04-22</td>\n",
       "      <td>2020-04-16</td>\n",
       "      <td>crop_merged_v2</td>\n",
       "      <td>1.0</td>\n",
       "      <td>1</td>\n",
       "      <td>training</td>\n",
       "      <td>Togo</td>\n",
       "      <td>Togo</td>\n",
       "      <td>crop_merged_v2/1_2019-04-22_2020-04-16.tif</td>\n",
       "      <td>lat=11.16392591_lon=-0.16385638_date=2019-04-2...</td>\n",
       "    </tr>\n",
       "    <tr>\n",
       "      <th>2</th>\n",
       "      <td>-0.157025</td>\n",
       "      <td>11.136826</td>\n",
       "      <td>2019-04-22</td>\n",
       "      <td>2020-04-16</td>\n",
       "      <td>noncrop_merged_v2</td>\n",
       "      <td>0.0</td>\n",
       "      <td>1</td>\n",
       "      <td>training</td>\n",
       "      <td>Togo</td>\n",
       "      <td>Togo</td>\n",
       "      <td>noncrop_merged_v2/2_2019-04-22_2020-04-16.tif</td>\n",
       "      <td>lat=11.13682622_lon=-0.15702498_date=2019-04-2...</td>\n",
       "    </tr>\n",
       "    <tr>\n",
       "      <th>3</th>\n",
       "      <td>-0.155683</td>\n",
       "      <td>11.159340</td>\n",
       "      <td>2019-04-22</td>\n",
       "      <td>2020-04-16</td>\n",
       "      <td>crop_merged_v2</td>\n",
       "      <td>1.0</td>\n",
       "      <td>1</td>\n",
       "      <td>training</td>\n",
       "      <td>Togo</td>\n",
       "      <td>Togo</td>\n",
       "      <td>crop_merged_v2/3_2019-04-22_2020-04-16.tif</td>\n",
       "      <td>lat=11.1593399_lon=-0.15568345_date=2019-04-22...</td>\n",
       "    </tr>\n",
       "    <tr>\n",
       "      <th>4</th>\n",
       "      <td>-0.155525</td>\n",
       "      <td>11.136067</td>\n",
       "      <td>2019-04-22</td>\n",
       "      <td>2020-04-16</td>\n",
       "      <td>noncrop_merged_v2</td>\n",
       "      <td>0.0</td>\n",
       "      <td>1</td>\n",
       "      <td>training</td>\n",
       "      <td>Togo</td>\n",
       "      <td>Togo</td>\n",
       "      <td>noncrop_merged_v2/4_2019-04-22_2020-04-16.tif</td>\n",
       "      <td>lat=11.13606681_lon=-0.15552516_date=2019-04-2...</td>\n",
       "    </tr>\n",
       "    <tr>\n",
       "      <th>5</th>\n",
       "      <td>-0.154908</td>\n",
       "      <td>11.136198</td>\n",
       "      <td>2019-04-22</td>\n",
       "      <td>2020-04-16</td>\n",
       "      <td>crop_merged_v2</td>\n",
       "      <td>1.0</td>\n",
       "      <td>1</td>\n",
       "      <td>training</td>\n",
       "      <td>Togo</td>\n",
       "      <td>Togo</td>\n",
       "      <td>crop_merged_v2/5_2019-04-22_2020-04-16.tif</td>\n",
       "      <td>lat=11.13619805_lon=-0.15490834_date=2019-04-2...</td>\n",
       "    </tr>\n",
       "    <tr>\n",
       "      <th>6</th>\n",
       "      <td>-0.154001</td>\n",
       "      <td>11.136584</td>\n",
       "      <td>2019-04-22</td>\n",
       "      <td>2020-04-16</td>\n",
       "      <td>crop_merged_v2</td>\n",
       "      <td>1.0</td>\n",
       "      <td>1</td>\n",
       "      <td>training</td>\n",
       "      <td>Togo</td>\n",
       "      <td>Togo</td>\n",
       "      <td>crop_merged_v2/6_2019-04-22_2020-04-16.tif</td>\n",
       "      <td>lat=11.13658379_lon=-0.15400141_date=2019-04-2...</td>\n",
       "    </tr>\n",
       "    <tr>\n",
       "      <th>7</th>\n",
       "      <td>-0.142175</td>\n",
       "      <td>11.127015</td>\n",
       "      <td>2019-04-22</td>\n",
       "      <td>2020-04-16</td>\n",
       "      <td>noncrop_merged_v2</td>\n",
       "      <td>0.0</td>\n",
       "      <td>1</td>\n",
       "      <td>training</td>\n",
       "      <td>Togo</td>\n",
       "      <td>Togo</td>\n",
       "      <td>noncrop_merged_v2/7_2019-04-22_2020-04-16.tif</td>\n",
       "      <td>lat=11.12701457_lon=-0.14217493_date=2019-04-2...</td>\n",
       "    </tr>\n",
       "    <tr>\n",
       "      <th>8</th>\n",
       "      <td>-0.139218</td>\n",
       "      <td>11.133168</td>\n",
       "      <td>2019-04-22</td>\n",
       "      <td>2020-04-16</td>\n",
       "      <td>noncrop_merged_v2</td>\n",
       "      <td>0.0</td>\n",
       "      <td>1</td>\n",
       "      <td>validation</td>\n",
       "      <td>Togo</td>\n",
       "      <td>Togo</td>\n",
       "      <td>noncrop_merged_v2/8_2019-04-22_2020-04-16.tif</td>\n",
       "      <td>lat=11.13316826_lon=-0.13921799_date=2019-04-2...</td>\n",
       "    </tr>\n",
       "    <tr>\n",
       "      <th>9</th>\n",
       "      <td>-0.132295</td>\n",
       "      <td>11.125922</td>\n",
       "      <td>2019-04-22</td>\n",
       "      <td>2020-04-16</td>\n",
       "      <td>noncrop_merged_v2</td>\n",
       "      <td>0.0</td>\n",
       "      <td>1</td>\n",
       "      <td>validation</td>\n",
       "      <td>Togo</td>\n",
       "      <td>Togo</td>\n",
       "      <td>noncrop_merged_v2/9_2019-04-22_2020-04-16.tif</td>\n",
       "      <td>lat=11.12592151_lon=-0.13229529_date=2019-04-2...</td>\n",
       "    </tr>\n",
       "  </tbody>\n",
       "</table>\n",
       "</div>"
      ],
      "text/plain": [
       "        lon        lat  start_date    end_date             source  \\\n",
       "0 -0.166017  11.161904  2019-04-22  2020-04-16  noncrop_merged_v2   \n",
       "1 -0.163856  11.163926  2019-04-22  2020-04-16     crop_merged_v2   \n",
       "2 -0.157025  11.136826  2019-04-22  2020-04-16  noncrop_merged_v2   \n",
       "3 -0.155683  11.159340  2019-04-22  2020-04-16     crop_merged_v2   \n",
       "4 -0.155525  11.136067  2019-04-22  2020-04-16  noncrop_merged_v2   \n",
       "5 -0.154908  11.136198  2019-04-22  2020-04-16     crop_merged_v2   \n",
       "6 -0.154001  11.136584  2019-04-22  2020-04-16     crop_merged_v2   \n",
       "7 -0.142175  11.127015  2019-04-22  2020-04-16  noncrop_merged_v2   \n",
       "8 -0.139218  11.133168  2019-04-22  2020-04-16  noncrop_merged_v2   \n",
       "9 -0.132295  11.125922  2019-04-22  2020-04-16  noncrop_merged_v2   \n",
       "\n",
       "   crop_probability  num_labelers      subset country dataset  \\\n",
       "0               0.0             1    training    Togo    Togo   \n",
       "1               1.0             1    training    Togo    Togo   \n",
       "2               0.0             1    training    Togo    Togo   \n",
       "3               1.0             1    training    Togo    Togo   \n",
       "4               0.0             1    training    Togo    Togo   \n",
       "5               1.0             1    training    Togo    Togo   \n",
       "6               1.0             1    training    Togo    Togo   \n",
       "7               0.0             1    training    Togo    Togo   \n",
       "8               0.0             1  validation    Togo    Togo   \n",
       "9               0.0             1  validation    Togo    Togo   \n",
       "\n",
       "                                        dest_tif  \\\n",
       "0  noncrop_merged_v2/0_2019-04-22_2020-04-16.tif   \n",
       "1     crop_merged_v2/1_2019-04-22_2020-04-16.tif   \n",
       "2  noncrop_merged_v2/2_2019-04-22_2020-04-16.tif   \n",
       "3     crop_merged_v2/3_2019-04-22_2020-04-16.tif   \n",
       "4  noncrop_merged_v2/4_2019-04-22_2020-04-16.tif   \n",
       "5     crop_merged_v2/5_2019-04-22_2020-04-16.tif   \n",
       "6     crop_merged_v2/6_2019-04-22_2020-04-16.tif   \n",
       "7  noncrop_merged_v2/7_2019-04-22_2020-04-16.tif   \n",
       "8  noncrop_merged_v2/8_2019-04-22_2020-04-16.tif   \n",
       "9  noncrop_merged_v2/9_2019-04-22_2020-04-16.tif   \n",
       "\n",
       "                                            filename  \n",
       "0  lat=11.16190392_lon=-0.1660175_date=2019-04-22...  \n",
       "1  lat=11.16392591_lon=-0.16385638_date=2019-04-2...  \n",
       "2  lat=11.13682622_lon=-0.15702498_date=2019-04-2...  \n",
       "3  lat=11.1593399_lon=-0.15568345_date=2019-04-22...  \n",
       "4  lat=11.13606681_lon=-0.15552516_date=2019-04-2...  \n",
       "5  lat=11.13619805_lon=-0.15490834_date=2019-04-2...  \n",
       "6  lat=11.13658379_lon=-0.15400141_date=2019-04-2...  \n",
       "7  lat=11.12701457_lon=-0.14217493_date=2019-04-2...  \n",
       "8  lat=11.13316826_lon=-0.13921799_date=2019-04-2...  \n",
       "9  lat=11.12592151_lon=-0.13229529_date=2019-04-2...  "
      ]
     },
     "execution_count": 14,
     "metadata": {},
     "output_type": "execute_result"
    }
   ],
   "source": [
    "df.head(10)"
   ]
  },
  {
   "cell_type": "code",
   "execution_count": 15,
   "id": "4668a012",
   "metadata": {},
   "outputs": [],
   "source": [
    "# Isolate the lon, lat, and subset columns\n",
    "df = df[['lon','lat','subset']]\n",
    "# Group the data by the associated subset - training or validation\n",
    "grouped = df.groupby(df.subset)"
   ]
  },
  {
   "cell_type": "code",
   "execution_count": 16,
   "id": "c4e66a27",
   "metadata": {},
   "outputs": [],
   "source": [
    "# Create the train set by getting the training group\n",
    "# Create the test set by getting the test group\n",
    "# Create the val set by getting the validation group\n",
    "train = grouped.get_group(\"training\")\n",
    "test = grouped.get_group(\"testing\")\n",
    "val = grouped.get_group(\"validation\")\n",
    "# Drop the subset column b/c the data is already grouped now\n",
    "train = train.drop(['subset'], axis=1)\n",
    "test = test.drop(['subset'], axis=1)\n",
    "val = val.drop(['subset'], axis=1)"
   ]
  },
  {
   "cell_type": "code",
   "execution_count": 17,
   "id": "25d73090",
   "metadata": {
    "scrolled": true
   },
   "outputs": [
    {
     "data": {
      "text/html": [
       "<div>\n",
       "<style scoped>\n",
       "    .dataframe tbody tr th:only-of-type {\n",
       "        vertical-align: middle;\n",
       "    }\n",
       "\n",
       "    .dataframe tbody tr th {\n",
       "        vertical-align: top;\n",
       "    }\n",
       "\n",
       "    .dataframe thead th {\n",
       "        text-align: right;\n",
       "    }\n",
       "</style>\n",
       "<table border=\"1\" class=\"dataframe\">\n",
       "  <thead>\n",
       "    <tr style=\"text-align: right;\">\n",
       "      <th></th>\n",
       "      <th>lon</th>\n",
       "      <th>lat</th>\n",
       "    </tr>\n",
       "  </thead>\n",
       "  <tbody>\n",
       "    <tr>\n",
       "      <th>count</th>\n",
       "      <td>999.000000</td>\n",
       "      <td>999.000000</td>\n",
       "    </tr>\n",
       "    <tr>\n",
       "      <th>mean</th>\n",
       "      <td>0.965939</td>\n",
       "      <td>8.948017</td>\n",
       "    </tr>\n",
       "    <tr>\n",
       "      <th>std</th>\n",
       "      <td>0.545832</td>\n",
       "      <td>1.555376</td>\n",
       "    </tr>\n",
       "    <tr>\n",
       "      <th>min</th>\n",
       "      <td>-0.166017</td>\n",
       "      <td>6.219475</td>\n",
       "    </tr>\n",
       "    <tr>\n",
       "      <th>25%</th>\n",
       "      <td>0.532095</td>\n",
       "      <td>7.503816</td>\n",
       "    </tr>\n",
       "    <tr>\n",
       "      <th>50%</th>\n",
       "      <td>1.134147</td>\n",
       "      <td>9.006904</td>\n",
       "    </tr>\n",
       "    <tr>\n",
       "      <th>75%</th>\n",
       "      <td>1.409445</td>\n",
       "      <td>10.603915</td>\n",
       "    </tr>\n",
       "    <tr>\n",
       "      <th>max</th>\n",
       "      <td>1.744784</td>\n",
       "      <td>11.163926</td>\n",
       "    </tr>\n",
       "  </tbody>\n",
       "</table>\n",
       "</div>"
      ],
      "text/plain": [
       "              lon         lat\n",
       "count  999.000000  999.000000\n",
       "mean     0.965939    8.948017\n",
       "std      0.545832    1.555376\n",
       "min     -0.166017    6.219475\n",
       "25%      0.532095    7.503816\n",
       "50%      1.134147    9.006904\n",
       "75%      1.409445   10.603915\n",
       "max      1.744784   11.163926"
      ]
     },
     "execution_count": 17,
     "metadata": {},
     "output_type": "execute_result"
    }
   ],
   "source": [
    "train.describe()"
   ]
  },
  {
   "cell_type": "code",
   "execution_count": 18,
   "id": "5af93778",
   "metadata": {},
   "outputs": [
    {
     "data": {
      "text/html": [
       "<div>\n",
       "<style scoped>\n",
       "    .dataframe tbody tr th:only-of-type {\n",
       "        vertical-align: middle;\n",
       "    }\n",
       "\n",
       "    .dataframe tbody tr th {\n",
       "        vertical-align: top;\n",
       "    }\n",
       "\n",
       "    .dataframe thead th {\n",
       "        text-align: right;\n",
       "    }\n",
       "</style>\n",
       "<table border=\"1\" class=\"dataframe\">\n",
       "  <thead>\n",
       "    <tr style=\"text-align: right;\">\n",
       "      <th></th>\n",
       "      <th>lon</th>\n",
       "      <th>lat</th>\n",
       "    </tr>\n",
       "  </thead>\n",
       "  <tbody>\n",
       "    <tr>\n",
       "      <th>count</th>\n",
       "      <td>355.000000</td>\n",
       "      <td>355.000000</td>\n",
       "    </tr>\n",
       "    <tr>\n",
       "      <th>mean</th>\n",
       "      <td>0.986390</td>\n",
       "      <td>8.461401</td>\n",
       "    </tr>\n",
       "    <tr>\n",
       "      <th>std</th>\n",
       "      <td>0.367095</td>\n",
       "      <td>1.300279</td>\n",
       "    </tr>\n",
       "    <tr>\n",
       "      <th>min</th>\n",
       "      <td>-0.011731</td>\n",
       "      <td>6.163283</td>\n",
       "    </tr>\n",
       "    <tr>\n",
       "      <th>25%</th>\n",
       "      <td>0.712120</td>\n",
       "      <td>7.390088</td>\n",
       "    </tr>\n",
       "    <tr>\n",
       "      <th>50%</th>\n",
       "      <td>0.992461</td>\n",
       "      <td>8.554501</td>\n",
       "    </tr>\n",
       "    <tr>\n",
       "      <th>75%</th>\n",
       "      <td>1.305416</td>\n",
       "      <td>9.466591</td>\n",
       "    </tr>\n",
       "    <tr>\n",
       "      <th>max</th>\n",
       "      <td>1.758173</td>\n",
       "      <td>11.049433</td>\n",
       "    </tr>\n",
       "  </tbody>\n",
       "</table>\n",
       "</div>"
      ],
      "text/plain": [
       "              lon         lat\n",
       "count  355.000000  355.000000\n",
       "mean     0.986390    8.461401\n",
       "std      0.367095    1.300279\n",
       "min     -0.011731    6.163283\n",
       "25%      0.712120    7.390088\n",
       "50%      0.992461    8.554501\n",
       "75%      1.305416    9.466591\n",
       "max      1.758173   11.049433"
      ]
     },
     "execution_count": 18,
     "metadata": {},
     "output_type": "execute_result"
    }
   ],
   "source": [
    "test.describe()"
   ]
  },
  {
   "cell_type": "code",
   "execution_count": 19,
   "id": "709c6350",
   "metadata": {},
   "outputs": [
    {
     "data": {
      "text/html": [
       "<div>\n",
       "<style scoped>\n",
       "    .dataframe tbody tr th:only-of-type {\n",
       "        vertical-align: middle;\n",
       "    }\n",
       "\n",
       "    .dataframe tbody tr th {\n",
       "        vertical-align: top;\n",
       "    }\n",
       "\n",
       "    .dataframe thead th {\n",
       "        text-align: right;\n",
       "    }\n",
       "</style>\n",
       "<table border=\"1\" class=\"dataframe\">\n",
       "  <thead>\n",
       "    <tr style=\"text-align: right;\">\n",
       "      <th></th>\n",
       "      <th>lon</th>\n",
       "      <th>lat</th>\n",
       "    </tr>\n",
       "  </thead>\n",
       "  <tbody>\n",
       "    <tr>\n",
       "      <th>count</th>\n",
       "      <td>277.000000</td>\n",
       "      <td>277.000000</td>\n",
       "    </tr>\n",
       "    <tr>\n",
       "      <th>mean</th>\n",
       "      <td>0.912382</td>\n",
       "      <td>9.003764</td>\n",
       "    </tr>\n",
       "    <tr>\n",
       "      <th>std</th>\n",
       "      <td>0.548913</td>\n",
       "      <td>1.594306</td>\n",
       "    </tr>\n",
       "    <tr>\n",
       "      <th>min</th>\n",
       "      <td>-0.139218</td>\n",
       "      <td>6.221596</td>\n",
       "    </tr>\n",
       "    <tr>\n",
       "      <th>25%</th>\n",
       "      <td>0.454662</td>\n",
       "      <td>7.528455</td>\n",
       "    </tr>\n",
       "    <tr>\n",
       "      <th>50%</th>\n",
       "      <td>1.062726</td>\n",
       "      <td>9.154662</td>\n",
       "    </tr>\n",
       "    <tr>\n",
       "      <th>75%</th>\n",
       "      <td>1.383338</td>\n",
       "      <td>10.719697</td>\n",
       "    </tr>\n",
       "    <tr>\n",
       "      <th>max</th>\n",
       "      <td>1.682789</td>\n",
       "      <td>11.133168</td>\n",
       "    </tr>\n",
       "  </tbody>\n",
       "</table>\n",
       "</div>"
      ],
      "text/plain": [
       "              lon         lat\n",
       "count  277.000000  277.000000\n",
       "mean     0.912382    9.003764\n",
       "std      0.548913    1.594306\n",
       "min     -0.139218    6.221596\n",
       "25%      0.454662    7.528455\n",
       "50%      1.062726    9.154662\n",
       "75%      1.383338   10.719697\n",
       "max      1.682789   11.133168"
      ]
     },
     "execution_count": 19,
     "metadata": {},
     "output_type": "execute_result"
    }
   ],
   "source": [
    "val.describe()"
   ]
  },
  {
   "cell_type": "code",
   "execution_count": 20,
   "id": "74c0f02a",
   "metadata": {},
   "outputs": [],
   "source": [
    "# Function to calculate distance\n",
    "# https://gist.github.com/rochacbruno/2883505\n",
    "def distance(origin, destination):\n",
    "    lat1, lon1 = origin\n",
    "    lat2, lon2 = destination\n",
    "    radius = 6371 # km\n",
    "\n",
    "    dlat = math.radians(lat2-lat1)\n",
    "    dlon = math.radians(lon2-lon1)\n",
    "    a = math.sin(dlat/2) * math.sin(dlat/2) + math.cos(math.radians(lat1)) \\\n",
    "        * math.cos(math.radians(lat2)) * math.sin(dlon/2) * math.sin(dlon/2)\n",
    "    c = 2 * math.atan2(math.sqrt(a), math.sqrt(1-a))\n",
    "    d = radius * c\n",
    "    return d"
   ]
  },
  {
   "cell_type": "code",
   "execution_count": 21,
   "id": "1f79b302",
   "metadata": {},
   "outputs": [],
   "source": [
    "# Function to caluculate average, min, and max distance\n",
    "def distance_metrics(dataframe1, dataframe2):\n",
    "    total_sum = 0\n",
    "    min_distance = math.inf\n",
    "    max_distance = 0\n",
    "    current_distance = 0\n",
    "    distances = []\n",
    "    for row in dataframe1.itertuples():\n",
    "        for row2 in dataframe2.itertuples():\n",
    "            current_distance = distance((row.lat, row.lon),(row2.lat, row2.lon))\n",
    "            total_sum += current_distance\n",
    "            distances.append(current_distance)\n",
    "            if current_distance < min_distance and not (row.lat == row2.lat and row.lon == row2.lon):\n",
    "                min_distance = current_distance\n",
    "            if current_distance > max_distance:\n",
    "                max_distance = current_distance\n",
    "    avg_distance = total_sum / (len(dataframe1)*len(dataframe2))\n",
    "    print(\"Average distance: \", avg_distance)\n",
    "    print(\"Minimum distance: \", min_distance)\n",
    "    print(\"Maximum distance: \", max_distance)\n",
    "    return distances"
   ]
  },
  {
   "cell_type": "code",
   "execution_count": 22,
   "id": "22ad0b12",
   "metadata": {
    "scrolled": true
   },
   "outputs": [
    {
     "name": "stdout",
     "output_type": "stream",
     "text": [
      "Average distance:  215.45258998228815\n",
      "Minimum distance:  0.02357211575617554\n",
      "Maximum distance:  581.9591011484724\n"
     ]
    }
   ],
   "source": [
    "# Display average, min, and max distance of training set points\n",
    "train_arr = distance_metrics(train, train)"
   ]
  },
  {
   "cell_type": "code",
   "execution_count": 23,
   "id": "c67190a7",
   "metadata": {},
   "outputs": [
    {
     "data": {
      "text/plain": [
       "Text(0.5, 1.0, 'Distance Distribution')"
      ]
     },
     "execution_count": 23,
     "metadata": {},
     "output_type": "execute_result"
    },
    {
     "data": {
      "image/png": "[encoded data removed]",
      "text/plain": [
       "<Figure size 432x288 with 1 Axes>"
      ]
     },
     "metadata": {
      "needs_background": "light"
     },
     "output_type": "display_data"
    }
   ],
   "source": [
    "# Display histogram for training set points\n",
    "plt.hist(train_arr, bins = 40, align='right', edgecolor='black')\n",
    "plt.xlabel('Distance Between Training Points')\n",
    "plt.ylabel('Number of Distances')\n",
    "plt.title('Distance Distribution')"
   ]
  },
  {
   "cell_type": "code",
   "execution_count": 24,
   "id": "ac572957",
   "metadata": {},
   "outputs": [
    {
     "name": "stdout",
     "output_type": "stream",
     "text": [
      "Average distance:  178.63520579906017\n",
      "Minimum distance:  0.24561843058561303\n",
      "Maximum distance:  559.3126878530702\n"
     ]
    }
   ],
   "source": [
    "# Display average, min, and max distance of test set points\n",
    "test_arr = distance_metrics(test, test)"
   ]
  },
  {
   "cell_type": "code",
   "execution_count": 25,
   "id": "6d74a3e0",
   "metadata": {},
   "outputs": [
    {
     "data": {
      "text/plain": [
       "Text(0.5, 1.0, 'Distance Distribution')"
      ]
     },
     "execution_count": 25,
     "metadata": {},
     "output_type": "execute_result"
    },
    {
     "data": {
      "image/png": "[encoded data removed]",
      "text/plain": [
       "<Figure size 432x288 with 1 Axes>"
      ]
     },
     "metadata": {
      "needs_background": "light"
     },
     "output_type": "display_data"
    }
   ],
   "source": [
    "# Display histogram for test set points\n",
    "plt.hist(test_arr, bins = 40, align='right', edgecolor='black')\n",
    "plt.xlabel('Distance Between Test Points')\n",
    "plt.ylabel('Number of Distances')\n",
    "plt.title('Distance Distribution')"
   ]
  },
  {
   "cell_type": "code",
   "execution_count": 26,
   "id": "7b554331",
   "metadata": {},
   "outputs": [
    {
     "name": "stdout",
     "output_type": "stream",
     "text": [
      "Average distance:  219.40271154984913\n",
      "Minimum distance:  0.03737098178074144\n",
      "Maximum distance:  571.628431172596\n"
     ]
    }
   ],
   "source": [
    "# Display average, min, and max distance of validation set points\n",
    "val_arr = distance_metrics(val, val)"
   ]
  },
  {
   "cell_type": "code",
   "execution_count": 27,
   "id": "628e47a4",
   "metadata": {},
   "outputs": [
    {
     "data": {
      "text/plain": [
       "Text(0.5, 1.0, 'Distance Distribution')"
      ]
     },
     "execution_count": 27,
     "metadata": {},
     "output_type": "execute_result"
    },
    {
     "data": {
      "image/png": "[encoded data removed]",
      "text/plain": [
       "<Figure size 432x288 with 1 Axes>"
      ]
     },
     "metadata": {
      "needs_background": "light"
     },
     "output_type": "display_data"
    }
   ],
   "source": [
    "# Display histogram for validation set points\n",
    "plt.hist(val_arr, bins = 40, align='right', edgecolor='black')\n",
    "plt.xlabel('Distance Between Test Points')\n",
    "plt.ylabel('Number of Distances')\n",
    "plt.title('Distance Distribution')"
   ]
  },
  {
   "cell_type": "code",
   "execution_count": 39,
   "id": "b57c2040",
   "metadata": {},
   "outputs": [
    {
     "name": "stdout",
     "output_type": "stream",
     "text": [
      "Average distance:  217.68491174174483\n",
      "Minimum distance:  0.0026029899987407294\n",
      "Maximum distance:  577.8031902540911\n"
     ]
    }
   ],
   "source": [
    "# Display average, min, and max distance of train and val set points\n",
    "train_and_val_arr = distance_metrics(train, val)"
   ]
  },
  {
   "cell_type": "code",
   "execution_count": 40,
   "id": "1e2c78af",
   "metadata": {},
   "outputs": [
    {
     "data": {
      "text/plain": [
       "Text(0.5, 1.0, 'Distance Distribution')"
      ]
     },
     "execution_count": 40,
     "metadata": {},
     "output_type": "execute_result"
    },
    {
     "data": {
      "image/png": "[encoded data removed]",
      "text/plain": [
       "<Figure size 432x288 with 1 Axes>"
      ]
     },
     "metadata": {
      "needs_background": "light"
     },
     "output_type": "display_data"
    }
   ],
   "source": [
    "# Display histogram for train and val set points\n",
    "plt.hist(train_and_val_arr, bins = 40, align='right', edgecolor='black')\n",
    "plt.xlabel('Distance Between Training and Validation Points')\n",
    "plt.ylabel('Number of Distances')\n",
    "plt.title('Distance Distribution')"
   ]
  },
  {
   "cell_type": "code",
   "execution_count": 41,
   "id": "e575cca3",
   "metadata": {},
   "outputs": [
    {
     "name": "stdout",
     "output_type": "stream",
     "text": [
      "Average distance:  209.63101103043206\n",
      "Minimum distance:  0.1539869146381993\n",
      "Maximum distance:  576.4471273762247\n"
     ]
    }
   ],
   "source": [
    "# Display average, min, and max distance of test and val set points\n",
    "test_and_val_arr = distance_metrics(test, val)"
   ]
  },
  {
   "cell_type": "code",
   "execution_count": 42,
   "id": "2ef419c5",
   "metadata": {},
   "outputs": [
    {
     "data": {
      "text/plain": [
       "Text(0.5, 1.0, 'Distance Distribution')"
      ]
     },
     "execution_count": 42,
     "metadata": {},
     "output_type": "execute_result"
    },
    {
     "data": {
      "image/png": "[encoded data removed]",
      "text/plain": [
       "<Figure size 432x288 with 1 Axes>"
      ]
     },
     "metadata": {
      "needs_background": "light"
     },
     "output_type": "display_data"
    }
   ],
   "source": [
    "# Display histogram for test and val set points\n",
    "plt.hist(test_and_val_arr, bins = 40, align='right', edgecolor='black')\n",
    "plt.xlabel('Distance Between Test and Validation Points')\n",
    "plt.ylabel('Number of Distances')\n",
    "plt.title('Distance Distribution')"
   ]
  },
  {
   "cell_type": "code",
   "execution_count": 45,
   "id": "0d9be9ee",
   "metadata": {},
   "outputs": [
    {
     "name": "stdout",
     "output_type": "stream",
     "text": [
      "Average distance:  205.6835877683412\n",
      "Minimum distance:  0.04651670988860487\n",
      "Maximum distance:  580.6127276775093\n"
     ]
    }
   ],
   "source": [
    "# Display average, min, and max distance of train and test set points\n",
    "train_and_test_arr = distance_metrics(train, test)"
   ]
  },
  {
   "cell_type": "code",
   "execution_count": 44,
   "id": "1216af72",
   "metadata": {
    "scrolled": true
   },
   "outputs": [
    {
     "data": {
      "text/plain": [
       "Text(0.5, 1.0, 'Distance Distribution')"
      ]
     },
     "execution_count": 44,
     "metadata": {},
     "output_type": "execute_result"
    },
    {
     "data": {
      "image/png": "[encoded data removed]",
      "text/plain": [
       "<Figure size 432x288 with 1 Axes>"
      ]
     },
     "metadata": {
      "needs_background": "light"
     },
     "output_type": "display_data"
    }
   ],
   "source": [
    "# Display histogram for train and test set points\n",
    "plt.hist(train_and_test_arr, bins = 40, align='right', edgecolor='black')\n",
    "plt.xlabel('Distance Between Training and Test Points')\n",
    "plt.ylabel('Number of Distances')\n",
    "plt.title('Distance Distribution')"
   ]
  }
 ],
 "metadata": {
  "kernelspec": {
   "display_name": "Python 3 (ipykernel)",
   "language": "python",
   "name": "python3"
  },
  "language_info": {
   "codemirror_mode": {
    "name": "ipython",
    "version": 3
   },
   "file_extension": ".py",
   "mimetype": "text/x-python",
   "name": "python",
   "nbconvert_exporter": "python",
   "pygments_lexer": "ipython3",
   "version": "3.7.11"
  }
 },
 "nbformat": 4,
 "nbformat_minor": 5
}
