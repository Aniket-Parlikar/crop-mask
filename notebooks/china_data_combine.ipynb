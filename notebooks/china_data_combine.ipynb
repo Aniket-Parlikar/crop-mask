{
 "cells": [
  {
   "cell_type": "markdown",
   "metadata": {},
   "source": [
    "# Combining China Datasets\n",
    "\n",
    "**Author:** Adam Yang (ayang115@umd.edu)\n",
    "\n",
    "**Description:** Notebook for combining labeled datasets "
   ]
  },
  {
   "cell_type": "code",
   "execution_count": 4,
   "metadata": {},
   "outputs": [],
   "source": [
    "import os\n",
    "import numpy as np\n",
    "import pandas as pd"
   ]
  },
  {
   "cell_type": "code",
   "execution_count": null,
   "metadata": {},
   "outputs": [],
   "source": [
    "dir = \"data/China_Agreement\"\n",
    "# Read in files\n",
    "df1 = pd.read_csv(\"ceo-China-Provinces-Apr-Nov-2019-(Set-1)-sample-data-2022-06-02.csv\")\n",
    "df2 = pd.read_csv(\"ceo-China-Provinces-Apr-Nov-2019-(Set-2)-sample-data-2022-06-02.csv\")\n",
    "\n",
    "# Set column names\n",
    "CROP_PROB = \"Does this point fall within active cropland?\"\n",
    "LAT = \"lat\"\n",
    "LON = \"lon\"\n",
    "\n",
    "# Combine csv and clean\n",
    "df = pd.concat([df1, df2])\n",
    "df = df.dropna(subset=[LON, LAT, CROP_PROB])\n",
    "df = df.round({LON: 8, LAT: 8})\n",
    "df[CROP_PROB] = df[CROP_PROB].replace({'Crop' : 1, 'Non-crop' : 0})\n",
    "\n",
    "# Group matching (lat, lon) and take the mean of the crop probabilities\n",
    "df = df.groupby([LON, LAT], as_index=False, sort=False).agg({CROP_PROB: \"mean\"})\n",
    "\n",
    "# Output\n",
    "df = df.reset_index(drop=True)\n",
    "df.to_csv(\"ceo-China-Provinces-apr-Nov-2019-combined.csv\", index=False)"
   ]
  }
 ],
 "metadata": {
  "interpreter": {
   "hash": "1f9268fe690ac5f1ce804be9802876efea2519d11f20df2814e4b2f89ff63845"
  },
  "kernelspec": {
   "display_name": "Python 3.6.15 ('landcover-mapping')",
   "language": "python",
   "name": "python3"
  },
  "language_info": {
   "codemirror_mode": {
    "name": "ipython",
    "version": 3
   },
   "file_extension": ".py",
   "mimetype": "text/x-python",
   "name": "python",
   "nbconvert_exporter": "python",
   "pygments_lexer": "ipython3",
   "version": "3.6.15"
  },
  "orig_nbformat": 4
 },
 "nbformat": 4,
 "nbformat_minor": 2
}
