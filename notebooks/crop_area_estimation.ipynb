{
 "cells": [
  {
   "cell_type": "markdown",
   "id": "25bef116",
   "metadata": {},
   "source": [
    "## Estimate crop area based on crop mask (single year)\n",
    "\n",
    "**Author**: Hannah Kerner (hkerner@umd.edu)\n",
    "\n",
    "**Description**: This notebook contains:\n",
    "1. Code for computing the confusion matrix between the labeled reference sample and the crop mask\n",
    "2. Calculations for the crop and noncrop area and accuracy estimates based on [Olofsson et al., 2014](https://www.sciencedirect.com/science/article/abs/pii/S0034425714000704)\n",
    "\n",
    "To be added in the future:\n",
    "- Code for thresholding the crop mask to a binary mask of 0 (noncrop) or 1 (crop)\n",
    "- Code for clipping the rectangular crop mask to the bounds of a regional shapefile\n",
    "- Code for creating a random stratified sample from the crop mask for labeling in CEO\n",
    "- Code for sub-regional estimates (subsetting the reference sample according to admin2 bounds, e.g.), probably as a separate notebook"
   ]
  },
  {
   "cell_type": "code",
   "execution_count": 1,
   "id": "81caa17e",
   "metadata": {},
   "outputs": [],
   "source": [
    "# Import libraries\n",
    "import numpy as np\n",
    "import pandas as pd\n",
    "import geopandas as gpd\n",
    "import rasterio as rio\n",
    "from sklearn.metrics import confusion_matrix\n",
    "import matplotlib.pyplot as plt"
   ]
  },
  {
   "cell_type": "code",
   "execution_count": 2,
   "id": "b618e90c",
   "metadata": {},
   "outputs": [],
   "source": [
    "################################################################\n",
    "### Set the custom paths that will be used for your analysis ###\n",
    "### This should be the only code you need to change          ###\n",
    "################################################################\n",
    "mask_path = '/gpfs/data1/cmongp1/barker/binary_masks/reprojected/epsg32652_HLJ_2019.tif'\n",
    "ceo_set1_path = '/gpfs/data1/cmongp1/barker/labeled_ceo/ceo-HLJ-2019-(Set-1)---v3-sample-data-2022-01-21.csv'\n",
    "ceo_set2_path = '/gpfs/data1/cmongp1/barker/labeled_ceo/ceo-HLJ-2019-(Set-2)---v3-sample-data-2022-01-21.csv'"
   ]
  },
  {
   "cell_type": "markdown",
   "id": "1a217fde",
   "metadata": {},
   "source": [
    "## 1. Load the crop mask"
   ]
  },
  {
   "cell_type": "code",
   "execution_count": 3,
   "id": "328c7ae5",
   "metadata": {},
   "outputs": [
    {
     "name": "stdout",
     "output_type": "stream",
     "text": [
      "Map CRS is EPSG:32652. Loading map into memory.\n"
     ]
    }
   ],
   "source": [
    "with rio.open(mask_path) as src:\n",
    "    if src.meta['crs'] == 'epsg:4326':\n",
    "        print('''WARNING: The map CRS is EPSG:4326. This means the map unit is degrees \n",
    "              and the pixel-wise areas will not be in meters. You need to reproject the map\n",
    "              to the projection defined for the map's primary UTM zone (e.g., EPSG:32652).''')\n",
    "    if src.meta['dtype'] != 'uint8':\n",
    "        print('''WARNING: The map data type is %s but should be uint8. Make sure the map has\n",
    "              been thresholded to convert to a binary mask of 0 (noncrop) or 1 (crop).''')\n",
    "    else:\n",
    "        print('Map CRS is %s. Loading map into memory.' % src.crs)\n",
    "        crop_map = src.read(1).astype(np.uint8)"
   ]
  },
  {
   "cell_type": "code",
   "execution_count": 4,
   "id": "e5027742",
   "metadata": {},
   "outputs": [],
   "source": [
    "# Plot the map to make sure it looks as expected\n",
    "# This may take a while depending on the size of the map,\n",
    "# so you may choose not to run this every time.\n",
    "# plt.imshow(crop_map, cmap='YlGn');\n",
    "# plt.axis('off');"
   ]
  },
  {
   "cell_type": "markdown",
   "id": "ef46aa79",
   "metadata": {},
   "source": [
    "## 2. Calculate the mapped area for each class"
   ]
  },
  {
   "cell_type": "code",
   "execution_count": 5,
   "id": "a7443f15",
   "metadata": {},
   "outputs": [
    {
     "name": "stdout",
     "output_type": "stream",
     "text": [
      "The pixel size is 7.978543 meters.\n"
     ]
    }
   ],
   "source": [
    "pixel_size = src.transform[0]\n",
    "print('The pixel size is %f meters.' % pixel_size)"
   ]
  },
  {
   "cell_type": "code",
   "execution_count": 6,
   "id": "7d3431d6",
   "metadata": {},
   "outputs": [],
   "source": [
    "# Function to calculate mapped area in pixels or ha\n",
    "def mapped_area(pred_map, unit='pixels', px_size=10):\n",
    "    crop_px = np.where(pred_map.flatten() == 1)\n",
    "    noncrop_px = np.where(pred_map.flatten() == 0)\n",
    "    if unit == 'ha':\n",
    "        # Multiply pixels by area per pixel and convert m to hectares\n",
    "        crop_area = crop_px[0].shape[0] * (px_size*px_size) / 100000\n",
    "        noncrop_area = noncrop_px[0].shape[0] * (px_size*px_size) / 100000\n",
    "    elif unit == 'pixels':\n",
    "        crop_area = int(crop_px[0].shape[0])\n",
    "        noncrop_area = int(noncrop_px[0].shape[0])\n",
    "    return crop_area, noncrop_area"
   ]
  },
  {
   "cell_type": "code",
   "execution_count": 7,
   "id": "75ad5970",
   "metadata": {},
   "outputs": [
    {
     "name": "stdout",
     "output_type": "stream",
     "text": [
      "Crop area [pixels] = 2507268291\n",
      "Non-crop area [pixels] = 4538501847\n"
     ]
    }
   ],
   "source": [
    "crop_area_px, noncrop_area_px = mapped_area(crop_map)\n",
    "\n",
    "print('Crop area [pixels] = %d' % crop_area_px)\n",
    "print('Non-crop area [pixels] = %d' % noncrop_area_px)"
   ]
  },
  {
   "cell_type": "code",
   "execution_count": 8,
   "id": "5fb92b4d",
   "metadata": {},
   "outputs": [
    {
     "name": "stdout",
     "output_type": "stream",
     "text": [
      "Total area [pixels] = 7045770138\n"
     ]
    }
   ],
   "source": [
    "tot_area_px = crop_area_px + noncrop_area_px\n",
    "print('Total area [pixels] = %d' % tot_area_px)"
   ]
  },
  {
   "cell_type": "code",
   "execution_count": 9,
   "id": "51965a24",
   "metadata": {},
   "outputs": [
    {
     "name": "stdout",
     "output_type": "stream",
     "text": [
      "Crop area [ha] = 1596055\n",
      "Non-crop area [ha] = 2889081\n"
     ]
    }
   ],
   "source": [
    "crop_area_ha, noncrop_area_ha = mapped_area(crop_map, unit='ha', px_size=pixel_size)\n",
    "\n",
    "print('Crop area [ha] = %d' % crop_area_ha)\n",
    "print('Non-crop area [ha] = %d' % noncrop_area_ha)"
   ]
  },
  {
   "cell_type": "markdown",
   "id": "d6f7e467",
   "metadata": {},
   "source": [
    "## 3. Load the labeled reference samples\n",
    "\n",
    "There should be two sets of labels for the reference sample. We compare the labels from each set to filter out labels for which the labelers did not agree and thus we can't be confident about the true label."
   ]
  },
  {
   "cell_type": "code",
   "execution_count": 10,
   "id": "6089dbfc",
   "metadata": {},
   "outputs": [
    {
     "data": {
      "text/html": [
       "<div>\n",
       "<style scoped>\n",
       "    .dataframe tbody tr th:only-of-type {\n",
       "        vertical-align: middle;\n",
       "    }\n",
       "\n",
       "    .dataframe tbody tr th {\n",
       "        vertical-align: top;\n",
       "    }\n",
       "\n",
       "    .dataframe thead th {\n",
       "        text-align: right;\n",
       "    }\n",
       "</style>\n",
       "<table border=\"1\" class=\"dataframe\">\n",
       "  <thead>\n",
       "    <tr style=\"text-align: right;\">\n",
       "      <th></th>\n",
       "      <th>plotid</th>\n",
       "      <th>sampleid</th>\n",
       "      <th>lon</th>\n",
       "      <th>lat</th>\n",
       "      <th>email</th>\n",
       "      <th>flagged</th>\n",
       "      <th>collection_time</th>\n",
       "      <th>analysis_duration</th>\n",
       "      <th>imagery_title</th>\n",
       "      <th>imagery_attributions</th>\n",
       "      <th>sample_geom</th>\n",
       "      <th>Does this point lie on active cropland?</th>\n",
       "    </tr>\n",
       "  </thead>\n",
       "  <tbody>\n",
       "    <tr>\n",
       "      <th>0</th>\n",
       "      <td>0</td>\n",
       "      <td>0</td>\n",
       "      <td>123.983561</td>\n",
       "      <td>47.216622</td>\n",
       "      <td>kmobley@umd.edu</td>\n",
       "      <td>False</td>\n",
       "      <td>2021-12-08 13:45</td>\n",
       "      <td>33.8 secs</td>\n",
       "      <td>Mapbox Satellite</td>\n",
       "      <td>NaN</td>\n",
       "      <td>POINT(123.9835605881125 47.216621572308455)</td>\n",
       "      <td>Non-crop</td>\n",
       "    </tr>\n",
       "    <tr>\n",
       "      <th>1</th>\n",
       "      <td>1</td>\n",
       "      <td>1</td>\n",
       "      <td>125.086502</td>\n",
       "      <td>47.613475</td>\n",
       "      <td>kmobley@umd.edu</td>\n",
       "      <td>False</td>\n",
       "      <td>2021-12-06 18:26</td>\n",
       "      <td>18.0 secs</td>\n",
       "      <td>Planet Monthly Mosaics</td>\n",
       "      <td>NaN</td>\n",
       "      <td>POINT(125.0865015663171 47.61347456758538)</td>\n",
       "      <td>Crop</td>\n",
       "    </tr>\n",
       "    <tr>\n",
       "      <th>2</th>\n",
       "      <td>2</td>\n",
       "      <td>2</td>\n",
       "      <td>131.693204</td>\n",
       "      <td>45.500411</td>\n",
       "      <td>kmobley@umd.edu</td>\n",
       "      <td>False</td>\n",
       "      <td>2021-12-06 18:27</td>\n",
       "      <td>11.0 secs</td>\n",
       "      <td>Planet Monthly Mosaics</td>\n",
       "      <td>NaN</td>\n",
       "      <td>POINT(131.69320402303472 45.50041127853154)</td>\n",
       "      <td>Crop</td>\n",
       "    </tr>\n",
       "    <tr>\n",
       "      <th>3</th>\n",
       "      <td>3</td>\n",
       "      <td>3</td>\n",
       "      <td>132.594279</td>\n",
       "      <td>47.480545</td>\n",
       "      <td>kmobley@umd.edu</td>\n",
       "      <td>False</td>\n",
       "      <td>2021-12-06 18:27</td>\n",
       "      <td>16.0 secs</td>\n",
       "      <td>Planet Monthly Mosaics</td>\n",
       "      <td>NaN</td>\n",
       "      <td>POINT(132.594279295613 47.480545329246645)</td>\n",
       "      <td>Crop</td>\n",
       "    </tr>\n",
       "    <tr>\n",
       "      <th>4</th>\n",
       "      <td>4</td>\n",
       "      <td>4</td>\n",
       "      <td>132.808439</td>\n",
       "      <td>46.979379</td>\n",
       "      <td>kmobley@umd.edu</td>\n",
       "      <td>False</td>\n",
       "      <td>2021-12-06 18:27</td>\n",
       "      <td>29.2 secs</td>\n",
       "      <td>Planet Monthly Mosaics</td>\n",
       "      <td>NaN</td>\n",
       "      <td>POINT(132.80843870683879 46.97937903978507)</td>\n",
       "      <td>Crop</td>\n",
       "    </tr>\n",
       "  </tbody>\n",
       "</table>\n",
       "</div>"
      ],
      "text/plain": [
       "   plotid  sampleid         lon        lat            email  flagged  \\\n",
       "0       0         0  123.983561  47.216622  kmobley@umd.edu    False   \n",
       "1       1         1  125.086502  47.613475  kmobley@umd.edu    False   \n",
       "2       2         2  131.693204  45.500411  kmobley@umd.edu    False   \n",
       "3       3         3  132.594279  47.480545  kmobley@umd.edu    False   \n",
       "4       4         4  132.808439  46.979379  kmobley@umd.edu    False   \n",
       "\n",
       "    collection_time analysis_duration           imagery_title  \\\n",
       "0  2021-12-08 13:45         33.8 secs        Mapbox Satellite   \n",
       "1  2021-12-06 18:26         18.0 secs  Planet Monthly Mosaics   \n",
       "2  2021-12-06 18:27         11.0 secs  Planet Monthly Mosaics   \n",
       "3  2021-12-06 18:27         16.0 secs  Planet Monthly Mosaics   \n",
       "4  2021-12-06 18:27         29.2 secs  Planet Monthly Mosaics   \n",
       "\n",
       "   imagery_attributions                                  sample_geom  \\\n",
       "0                   NaN  POINT(123.9835605881125 47.216621572308455)   \n",
       "1                   NaN   POINT(125.0865015663171 47.61347456758538)   \n",
       "2                   NaN  POINT(131.69320402303472 45.50041127853154)   \n",
       "3                   NaN   POINT(132.594279295613 47.480545329246645)   \n",
       "4                   NaN  POINT(132.80843870683879 46.97937903978507)   \n",
       "\n",
       "  Does this point lie on active cropland?  \n",
       "0                                Non-crop  \n",
       "1                                    Crop  \n",
       "2                                    Crop  \n",
       "3                                    Crop  \n",
       "4                                    Crop  "
      ]
     },
     "execution_count": 10,
     "metadata": {},
     "output_type": "execute_result"
    }
   ],
   "source": [
    "ceo_set1 = pd.read_csv(ceo_set1_path)\n",
    "ceo_set1.head()"
   ]
  },
  {
   "cell_type": "code",
   "execution_count": 11,
   "id": "8bd57bc5",
   "metadata": {
    "scrolled": true
   },
   "outputs": [
    {
     "data": {
      "text/html": [
       "<div>\n",
       "<style scoped>\n",
       "    .dataframe tbody tr th:only-of-type {\n",
       "        vertical-align: middle;\n",
       "    }\n",
       "\n",
       "    .dataframe tbody tr th {\n",
       "        vertical-align: top;\n",
       "    }\n",
       "\n",
       "    .dataframe thead th {\n",
       "        text-align: right;\n",
       "    }\n",
       "</style>\n",
       "<table border=\"1\" class=\"dataframe\">\n",
       "  <thead>\n",
       "    <tr style=\"text-align: right;\">\n",
       "      <th></th>\n",
       "      <th>plotid</th>\n",
       "      <th>sampleid</th>\n",
       "      <th>lon</th>\n",
       "      <th>lat</th>\n",
       "      <th>email</th>\n",
       "      <th>flagged</th>\n",
       "      <th>collection_time</th>\n",
       "      <th>analysis_duration</th>\n",
       "      <th>imagery_title</th>\n",
       "      <th>imagery_attributions</th>\n",
       "      <th>sample_geom</th>\n",
       "      <th>Does this point lie on active cropland?</th>\n",
       "    </tr>\n",
       "  </thead>\n",
       "  <tbody>\n",
       "    <tr>\n",
       "      <th>0</th>\n",
       "      <td>0</td>\n",
       "      <td>0</td>\n",
       "      <td>123.983561</td>\n",
       "      <td>47.216622</td>\n",
       "      <td>kmobley@umd.edu</td>\n",
       "      <td>False</td>\n",
       "      <td>2021-12-08 13:54</td>\n",
       "      <td>23.4 secs</td>\n",
       "      <td>Mapbox Satellite</td>\n",
       "      <td>NaN</td>\n",
       "      <td>POINT(123.9835605881125 47.216621572308455)</td>\n",
       "      <td>Non-crop</td>\n",
       "    </tr>\n",
       "    <tr>\n",
       "      <th>1</th>\n",
       "      <td>1</td>\n",
       "      <td>1</td>\n",
       "      <td>125.086502</td>\n",
       "      <td>47.613475</td>\n",
       "      <td>kmobley@umd.edu</td>\n",
       "      <td>False</td>\n",
       "      <td>2021-12-08 13:54</td>\n",
       "      <td>7.4 secs</td>\n",
       "      <td>Planet Monthly Mosaics</td>\n",
       "      <td>NaN</td>\n",
       "      <td>POINT(125.0865015663171 47.61347456758538)</td>\n",
       "      <td>Crop</td>\n",
       "    </tr>\n",
       "    <tr>\n",
       "      <th>2</th>\n",
       "      <td>2</td>\n",
       "      <td>2</td>\n",
       "      <td>131.693204</td>\n",
       "      <td>45.500411</td>\n",
       "      <td>kmobley@umd.edu</td>\n",
       "      <td>False</td>\n",
       "      <td>2021-12-08 13:54</td>\n",
       "      <td>4.4 secs</td>\n",
       "      <td>Planet Monthly Mosaics</td>\n",
       "      <td>NaN</td>\n",
       "      <td>POINT(131.69320402303472 45.50041127853154)</td>\n",
       "      <td>Crop</td>\n",
       "    </tr>\n",
       "    <tr>\n",
       "      <th>3</th>\n",
       "      <td>3</td>\n",
       "      <td>3</td>\n",
       "      <td>132.594279</td>\n",
       "      <td>47.480545</td>\n",
       "      <td>kmobley@umd.edu</td>\n",
       "      <td>False</td>\n",
       "      <td>2021-12-08 13:54</td>\n",
       "      <td>7.1 secs</td>\n",
       "      <td>Planet Monthly Mosaics</td>\n",
       "      <td>NaN</td>\n",
       "      <td>POINT(132.594279295613 47.480545329246645)</td>\n",
       "      <td>Crop</td>\n",
       "    </tr>\n",
       "    <tr>\n",
       "      <th>4</th>\n",
       "      <td>4</td>\n",
       "      <td>4</td>\n",
       "      <td>132.808439</td>\n",
       "      <td>46.979379</td>\n",
       "      <td>kmobley@umd.edu</td>\n",
       "      <td>False</td>\n",
       "      <td>2021-12-08 13:54</td>\n",
       "      <td>4.8 secs</td>\n",
       "      <td>Planet Monthly Mosaics</td>\n",
       "      <td>NaN</td>\n",
       "      <td>POINT(132.80843870683879 46.97937903978507)</td>\n",
       "      <td>Crop</td>\n",
       "    </tr>\n",
       "  </tbody>\n",
       "</table>\n",
       "</div>"
      ],
      "text/plain": [
       "   plotid  sampleid         lon        lat            email  flagged  \\\n",
       "0       0         0  123.983561  47.216622  kmobley@umd.edu    False   \n",
       "1       1         1  125.086502  47.613475  kmobley@umd.edu    False   \n",
       "2       2         2  131.693204  45.500411  kmobley@umd.edu    False   \n",
       "3       3         3  132.594279  47.480545  kmobley@umd.edu    False   \n",
       "4       4         4  132.808439  46.979379  kmobley@umd.edu    False   \n",
       "\n",
       "    collection_time analysis_duration           imagery_title  \\\n",
       "0  2021-12-08 13:54         23.4 secs        Mapbox Satellite   \n",
       "1  2021-12-08 13:54          7.4 secs  Planet Monthly Mosaics   \n",
       "2  2021-12-08 13:54          4.4 secs  Planet Monthly Mosaics   \n",
       "3  2021-12-08 13:54          7.1 secs  Planet Monthly Mosaics   \n",
       "4  2021-12-08 13:54          4.8 secs  Planet Monthly Mosaics   \n",
       "\n",
       "   imagery_attributions                                  sample_geom  \\\n",
       "0                   NaN  POINT(123.9835605881125 47.216621572308455)   \n",
       "1                   NaN   POINT(125.0865015663171 47.61347456758538)   \n",
       "2                   NaN  POINT(131.69320402303472 45.50041127853154)   \n",
       "3                   NaN   POINT(132.594279295613 47.480545329246645)   \n",
       "4                   NaN  POINT(132.80843870683879 46.97937903978507)   \n",
       "\n",
       "  Does this point lie on active cropland?  \n",
       "0                                Non-crop  \n",
       "1                                    Crop  \n",
       "2                                    Crop  \n",
       "3                                    Crop  \n",
       "4                                    Crop  "
      ]
     },
     "execution_count": 11,
     "metadata": {},
     "output_type": "execute_result"
    }
   ],
   "source": [
    "ceo_set2 = pd.read_csv(ceo_set2_path)\n",
    "ceo_set2.head()"
   ]
  },
  {
   "cell_type": "code",
   "execution_count": null,
   "id": "48f26e74",
   "metadata": {},
   "outputs": [],
   "source": [
    "# Sometimes there are slight variations in the labeling question used. We store it here to avoid manual updates.\n",
    "label_question = ceo_set1.columns[-1]"
   ]
  },
  {
   "cell_type": "code",
   "execution_count": 12,
   "id": "78ad1f11",
   "metadata": {},
   "outputs": [
    {
     "ename": "NameError",
     "evalue": "name 'label_question' is not defined",
     "output_type": "error",
     "traceback": [
      "\u001b[0;31m---------------------------------------------------------------------------\u001b[0m",
      "\u001b[0;31mNameError\u001b[0m                                 Traceback (most recent call last)",
      "\u001b[0;32m/tmp/ipykernel_215260/2037632265.py\u001b[0m in \u001b[0;36m<module>\u001b[0;34m\u001b[0m\n\u001b[1;32m      1\u001b[0m \u001b[0;31m# Check for any NaNs / missing answers\u001b[0m\u001b[0;34m\u001b[0m\u001b[0;34m\u001b[0m\u001b[0;34m\u001b[0m\u001b[0m\n\u001b[0;32m----> 2\u001b[0;31m \u001b[0mceo_set1\u001b[0m\u001b[0;34m[\u001b[0m\u001b[0mceo_set1\u001b[0m\u001b[0;34m[\u001b[0m\u001b[0mlabel_question\u001b[0m\u001b[0;34m]\u001b[0m\u001b[0;34m.\u001b[0m\u001b[0misna\u001b[0m\u001b[0;34m(\u001b[0m\u001b[0;34m)\u001b[0m\u001b[0;34m]\u001b[0m\u001b[0;34m\u001b[0m\u001b[0;34m\u001b[0m\u001b[0m\n\u001b[0m",
      "\u001b[0;31mNameError\u001b[0m: name 'label_question' is not defined"
     ]
    }
   ],
   "source": [
    "# Check for any NaNs / missing answers\n",
    "ceo_set1[ceo_set1[label_question].isna()]"
   ]
  },
  {
   "cell_type": "code",
   "execution_count": null,
   "id": "21ffe3b9",
   "metadata": {},
   "outputs": [],
   "source": [
    "# Check for any NaNs / missing answers\n",
    "ceo_set2[ceo_set2[label_question].isna()]"
   ]
  },
  {
   "cell_type": "code",
   "execution_count": null,
   "id": "03a8b497",
   "metadata": {},
   "outputs": [],
   "source": [
    "if ceo_set1.shape != ceo_set2.shape:\n",
    "    print('ERROR: The size of the two dataframes does not match. Most likely, there is a duplicate in the plotid column resulting from an error in CEO. You need to delete the duplicate manually before continuing.')\n",
    "    print(ceo_set1[ceo_set1.duplicated(subset=['plotid'])])\n",
    "    print(ceo_set2[ceo_set2.duplicated(subset=['plotid'])])"
   ]
  },
  {
   "cell_type": "code",
   "execution_count": null,
   "id": "5312ba11",
   "metadata": {},
   "outputs": [],
   "source": [
    "# Make sure the question and thus column name is correct for the project you are working on\n",
    "ceo_agree = ceo_set1[ceo_set1[label_question] == \n",
    "                         ceo_set2[label_question]]\n",
    "\n",
    "print('Number of samples that are in agreement: %d out of %d (%.2f%%)' % \n",
    "          (ceo_agree.shape[0], ceo_set1.shape[0], ceo_agree.shape[0]/ceo_set1.shape[0]*100))"
   ]
  },
  {
   "cell_type": "code",
   "execution_count": null,
   "id": "f21b959c",
   "metadata": {},
   "outputs": [],
   "source": [
    "# Convert the pandas dataframe to a geodataframe\n",
    "ceo_agree_geom = gpd.GeoDataFrame(ceo_agree, geometry=gpd.points_from_xy(ceo_agree.lon, ceo_agree.lat), crs='EPSG:4326')"
   ]
  },
  {
   "cell_type": "code",
   "execution_count": null,
   "id": "b63c927d",
   "metadata": {},
   "outputs": [],
   "source": [
    "# The labeling platform CEO requires points to be in EPSG:4326. \n",
    "# Reproject to the same crs as the map.\n",
    "ceo_agree_geom = ceo_agree_geom.to_crs(src.crs)"
   ]
  },
  {
   "cell_type": "code",
   "execution_count": null,
   "id": "961dddd2",
   "metadata": {},
   "outputs": [],
   "source": [
    "# Plot them to make sure they look as expected\n",
    "ceo_agree_geom.plot();"
   ]
  },
  {
   "cell_type": "markdown",
   "id": "4e618d3b",
   "metadata": {},
   "source": [
    "## 4. Get the mapped class for each of the reference samples"
   ]
  },
  {
   "cell_type": "code",
   "execution_count": null,
   "id": "14580b99",
   "metadata": {},
   "outputs": [],
   "source": [
    "for r, row in ceo_agree_geom.iterrows():\n",
    "    # transform lon, lat to pixel coordinates\n",
    "    lon, lat = row['geometry'].y, row['geometry'].x\n",
    "    px, py = src.index(lat, lon)\n",
    "    ceo_agree_geom.loc[r,'Mapped class'] = crop_map[px, py]"
   ]
  },
  {
   "cell_type": "code",
   "execution_count": null,
   "id": "04b9b173",
   "metadata": {},
   "outputs": [],
   "source": [
    "ceo_agree_geom.head()"
   ]
  },
  {
   "cell_type": "code",
   "execution_count": null,
   "id": "7adf9f97",
   "metadata": {},
   "outputs": [],
   "source": [
    "# Make sure none of them are nodata\n",
    "ceo_agree[ceo_agree_geom['Mapped class'] == 3]"
   ]
  },
  {
   "cell_type": "markdown",
   "id": "fb2413eb",
   "metadata": {},
   "source": [
    "## 5. Compute the confusion matrix between the mapped classes and reference labels"
   ]
  },
  {
   "cell_type": "code",
   "execution_count": null,
   "id": "ba97bbb5",
   "metadata": {},
   "outputs": [],
   "source": [
    "# Convert the CEO string label to an integer label\n",
    "ceo_agree_geom.loc[ceo_agree_geom[label_question] == 'Crop', 'Reference label'] = 1\n",
    "ceo_agree_geom.loc[ceo_agree_geom[label_question] == 'Non-crop', 'Reference label'] = 0\n",
    "# Account for alternate spellings that may be pressent\n",
    "ceo_agree_geom.loc[ceo_agree_geom[label_question] == 'Noncrop', 'Reference label'] = 0\n",
    "ceo_agree_geom.loc[ceo_agree_geom[label_question] == 'NonCrop', 'Reference label'] = 0\n",
    "\n",
    "ceo_agree_geom['Reference label'] = ceo_agree_geom['Reference label'].astype(np.uint8)\n",
    "ceo_agree_geom.head()"
   ]
  },
  {
   "cell_type": "code",
   "execution_count": null,
   "id": "b317a36e",
   "metadata": {},
   "outputs": [],
   "source": [
    "# Compute confusion matrix\n",
    "y_true = np.array(ceo_agree_geom['Reference label']).astype(np.uint8)\n",
    "y_pred = np.array(ceo_agree_geom['Mapped class']).astype(np.uint8)\n",
    "confusion_matrix(y_true, y_pred)"
   ]
  },
  {
   "cell_type": "code",
   "execution_count": null,
   "id": "6d12cba4",
   "metadata": {},
   "outputs": [],
   "source": [
    "# Extract and print confusion matrix values with element descriptions\n",
    "tn, fp, fn, tp = confusion_matrix(y_true, y_pred).ravel()\n",
    "print('True negatives: %d' % tn)\n",
    "print('False positives: %d' % fp)\n",
    "print('False negatives: %d' % fn)\n",
    "print('True positives: %d' % tp)"
   ]
  },
  {
   "cell_type": "markdown",
   "id": "478c620f",
   "metadata": {},
   "source": [
    "## 6. Adjust mapped area using confusion matrix to compute area estimates"
   ]
  },
  {
   "cell_type": "markdown",
   "id": "4fc0242d",
   "metadata": {},
   "source": [
    "$W_h$ is the proportion of mapped area for each class "
   ]
  },
  {
   "cell_type": "code",
   "execution_count": null,
   "id": "44c324ae",
   "metadata": {},
   "outputs": [],
   "source": [
    "wh_crop = crop_area_px / tot_area_px\n",
    "print('Wh_crop = %f' % wh_crop)\n",
    "\n",
    "wh_noncrop = noncrop_area_px / tot_area_px\n",
    "print('Wh_noncrop = %f' % wh_noncrop)"
   ]
  },
  {
   "cell_type": "markdown",
   "id": "417d3cb2",
   "metadata": {},
   "source": [
    "Compute the fraction of the proportional area of each class that was mapped as each category in the confusion matrix"
   ]
  },
  {
   "cell_type": "code",
   "execution_count": null,
   "id": "bd3b7670",
   "metadata": {},
   "outputs": [],
   "source": [
    "tp_area = tp / (tp + fp) * wh_crop\n",
    "fp_area = fp / (tp + fp) * wh_crop\n",
    "fn_area = fn / (fn + tn) * wh_noncrop\n",
    "tn_area = tn / (fn + tn) * wh_noncrop\n",
    "\n",
    "print('%f \\t %f \\n %f \\t %f' % (tp_area, fp_area, fn_area, tn_area))"
   ]
  },
  {
   "cell_type": "markdown",
   "id": "9c75bf8f",
   "metadata": {},
   "source": [
    "$U_i$ is the user's accuracy (i.e., precision) for each mapped class. We calculate it here in terms of proportion of area computed in the last cell."
   ]
  },
  {
   "cell_type": "code",
   "execution_count": null,
   "id": "76fa03a7",
   "metadata": {},
   "outputs": [],
   "source": [
    "u_crop = tp_area / (tp_area + fp_area)\n",
    "print('U_crop = %f' % u_crop)\n",
    "\n",
    "u_noncrop = tn_area / (tn_area + fn_area)\n",
    "print('U_noncrop = %f' % u_noncrop)"
   ]
  },
  {
   "cell_type": "markdown",
   "id": "2c052246",
   "metadata": {},
   "source": [
    "$V(U_i)$ is the estimated variance of user accuracy for each mapped class."
   ]
  },
  {
   "cell_type": "code",
   "execution_count": null,
   "id": "0d58b191",
   "metadata": {},
   "outputs": [],
   "source": [
    "v_u_crop = u_crop * (1-u_crop) / (tp + fp)\n",
    "print('V(U)_crop = %f' % v_u_crop)\n",
    "\n",
    "v_u_noncrop = u_noncrop * (1-u_noncrop) / (fn + tn)\n",
    "print('V(U)_noncrop = %f' % v_u_noncrop)"
   ]
  },
  {
   "cell_type": "markdown",
   "id": "6e2d6b16",
   "metadata": {},
   "source": [
    "$S(U_i)$ is the estimated standard error of user accuracy for each mapped class."
   ]
  },
  {
   "cell_type": "code",
   "execution_count": null,
   "id": "e4c6330d",
   "metadata": {},
   "outputs": [],
   "source": [
    "s_u_crop = np.sqrt(v_u_crop)\n",
    "print('S(U)_crop = %f' % s_u_crop)\n",
    "\n",
    "s_u_noncrop = np.sqrt(v_u_noncrop)\n",
    "print('S(U)_noncrop = %f' % s_u_noncrop)"
   ]
  },
  {
   "cell_type": "markdown",
   "id": "56cac48e",
   "metadata": {},
   "source": [
    "Get the 95% confidence interval for User's accuracy"
   ]
  },
  {
   "cell_type": "code",
   "execution_count": null,
   "id": "44e37f5f",
   "metadata": {},
   "outputs": [],
   "source": [
    "u_crop_err = s_u_crop * 1.96\n",
    "print('95%% CI of User accuracy for crop = %f' % u_crop_err)\n",
    "\n",
    "u_noncrop_err = s_u_noncrop * 1.96\n",
    "print('95%% CI of User accuracy for noncrop = %f' % u_noncrop_err)"
   ]
  },
  {
   "cell_type": "markdown",
   "id": "81fcfc1c",
   "metadata": {},
   "source": [
    "$P$ is the producer's accuracy (i.e., recall). We calculate it here in terms of proportion of area."
   ]
  },
  {
   "cell_type": "code",
   "execution_count": null,
   "id": "60857718",
   "metadata": {},
   "outputs": [],
   "source": [
    "p_crop = tp_area / (tp_area + fn_area)\n",
    "print('P_crop = %f' % p_crop)\n",
    "\n",
    "p_noncrop = tn_area / (tn_area + fp_area)\n",
    "print('P_noncrop = %f' % p_noncrop)"
   ]
  },
  {
   "cell_type": "markdown",
   "id": "78580033",
   "metadata": {},
   "source": [
    "$N_j$ is the estimated marginal total number of pixels of each reference class $j$"
   ]
  },
  {
   "cell_type": "code",
   "execution_count": null,
   "id": "8e3ab5e7",
   "metadata": {},
   "outputs": [],
   "source": [
    "n_j_crop = (crop_area_px * tp) / (tp + fp) + (noncrop_area_px * fn) / (fn + tn)\n",
    "print('N_j_crop = %f' % n_j_crop)\n",
    "\n",
    "n_j_noncrop = (crop_area_px * fp) / (tp + fp) + (noncrop_area_px * tn) / (fn + tn)\n",
    "print('N_j_crop = %f' % n_j_noncrop)"
   ]
  },
  {
   "cell_type": "code",
   "execution_count": null,
   "id": "4ff335be",
   "metadata": {},
   "outputs": [],
   "source": [
    "expr1_crop = crop_area_px**2 * (1-p_crop)**2 * u_crop * (1-u_crop) / (tp + fp - 1)\n",
    "print('expr1 crop = %f' % expr1_crop)\n",
    "\n",
    "expr1_noncrop = noncrop_area_px**2 * (1-p_noncrop)**2 * u_noncrop * (1-u_noncrop) / (fp + tn - 1)\n",
    "print('expr1 noncrop = %f' % expr1_noncrop)"
   ]
  },
  {
   "cell_type": "code",
   "execution_count": null,
   "id": "72678e8e",
   "metadata": {},
   "outputs": [],
   "source": [
    "# Warning: depending on the size of your map, you may get an overflow warning here, e.g.\n",
    "# RuntimeWarning: overflow encountered in long_scalars\n",
    "# Need to figure out if we can correct this...\n",
    "expr2_crop = p_crop**2 * (noncrop_area_px**2 * fn / (fn + tn) * (1 - fn / (fn + tn)) / (fn + tn - 1))\n",
    "print('expr2 crop = %f' % expr2_crop)\n",
    "\n",
    "expr2_noncrop = p_crop**2 * (crop_area_px**2 * fp / (fp + tp) * (1 - fp / (fp + tp)) / (fp + tp - 1))\n",
    "print('expr2 noncrop = %f' % expr2_noncrop)"
   ]
  },
  {
   "cell_type": "markdown",
   "id": "54200296",
   "metadata": {},
   "source": [
    "$V(P_i)$ is the estimated variance of producer's accuracy for each mapped class."
   ]
  },
  {
   "cell_type": "code",
   "execution_count": null,
   "id": "5cdfe1e6",
   "metadata": {},
   "outputs": [],
   "source": [
    "v_p_crop = (1 / n_j_crop**2) * (expr1_crop + expr2_crop)\n",
    "print('V(P) crop = %f' % v_p_crop)\n",
    "\n",
    "v_p_noncrop = (1 / n_j_noncrop**2) * (expr1_noncrop + expr2_noncrop)\n",
    "print('V(P) noncrop = %f' % v_p_noncrop)"
   ]
  },
  {
   "cell_type": "markdown",
   "id": "20562ea9",
   "metadata": {},
   "source": [
    "$S(P_i)$ is the estimated standard error of producer accuracy for each mapped class."
   ]
  },
  {
   "cell_type": "code",
   "execution_count": null,
   "id": "294a6518",
   "metadata": {},
   "outputs": [],
   "source": [
    "# Warning: depending on the size of your map, you may get an overflow warning here, e.g.\n",
    "# RuntimeWarning: overflow encountered in long_scalars\n",
    "# Need to figure out if we can correct this...\n",
    "s_p_crop = np.sqrt(v_p_crop)\n",
    "print('S(P) crop = %f' % s_p_crop)\n",
    "\n",
    "s_p_noncrop = np.sqrt(v_p_noncrop)\n",
    "print('S(P) noncrop = %f' % s_p_noncrop)"
   ]
  },
  {
   "cell_type": "markdown",
   "id": "fd606331",
   "metadata": {},
   "source": [
    "Get the 95% confidence interval for Producer's accuracy"
   ]
  },
  {
   "cell_type": "code",
   "execution_count": null,
   "id": "56f88562",
   "metadata": {},
   "outputs": [],
   "source": [
    "p_crop_err = s_p_crop * 1.96\n",
    "print('95%% CI of Producer accuracy for crop = %f' % p_crop_err)\n",
    "\n",
    "p_noncrop_err = s_p_noncrop * 1.96\n",
    "print('95%% CI of Producer accuracy for noncrop = %f' % p_noncrop_err)"
   ]
  },
  {
   "cell_type": "markdown",
   "id": "df8734e6",
   "metadata": {},
   "source": [
    "$O$ is the overall accuracy. We calculate it here in terms of proportion of area."
   ]
  },
  {
   "cell_type": "code",
   "execution_count": null,
   "id": "2450ff67",
   "metadata": {},
   "outputs": [],
   "source": [
    "acc = tp_area + tn_area\n",
    "print('Overall accuracy = %f' % acc)"
   ]
  },
  {
   "cell_type": "markdown",
   "id": "e6886a49",
   "metadata": {},
   "source": [
    "$V(O)$ is the estimated variance of the overall accuracy"
   ]
  },
  {
   "cell_type": "code",
   "execution_count": null,
   "id": "cb8b14cd",
   "metadata": {},
   "outputs": [],
   "source": [
    "v_acc = wh_crop**2 * u_crop * (1-u_crop) / (tp + fp - 1) + \\\n",
    "        wh_noncrop**2 * u_noncrop * (1-u_noncrop) / (fn + tn - 1)\n",
    "print('V(O) = %f' % v_acc)"
   ]
  },
  {
   "cell_type": "markdown",
   "id": "0d2b1ad3",
   "metadata": {},
   "source": [
    "$S(O)$ is the estimated standard error of the overall accuracy"
   ]
  },
  {
   "cell_type": "code",
   "execution_count": null,
   "id": "0ae08bc4",
   "metadata": {},
   "outputs": [],
   "source": [
    "s_acc = np.sqrt(v_acc)\n",
    "print('S(O) = %f' % s_acc)"
   ]
  },
  {
   "cell_type": "markdown",
   "id": "c0f3f37a",
   "metadata": {},
   "source": [
    "Get the 95% confidence interval for overall accuracy"
   ]
  },
  {
   "cell_type": "code",
   "execution_count": null,
   "id": "8fef1180",
   "metadata": {},
   "outputs": [],
   "source": [
    "acc_err = s_acc * 1.96\n",
    "print('95%% CI of overall accuracy = %f' % acc_err)"
   ]
  },
  {
   "cell_type": "markdown",
   "id": "a6587cfc",
   "metadata": {},
   "source": [
    "$A_{pixels}$ is the adjusted map area in units of pixels"
   ]
  },
  {
   "cell_type": "code",
   "execution_count": null,
   "id": "a10c564a",
   "metadata": {},
   "outputs": [],
   "source": [
    "a_pixels_crop = tot_area_px * (tp_area + fn_area)\n",
    "print('A^[pixels] crop = %f' % a_pixels_crop)\n",
    "\n",
    "a_pixels_noncrop = tot_area_px * (tn_area + fp_area)\n",
    "print('A^[pixels] noncrop = %f' % a_pixels_noncrop)"
   ]
  },
  {
   "cell_type": "markdown",
   "id": "7347e68c",
   "metadata": {},
   "source": [
    "$A_{ha}$ is the adjusted map area in units of hectares"
   ]
  },
  {
   "cell_type": "code",
   "execution_count": null,
   "id": "6a732fca",
   "metadata": {},
   "outputs": [],
   "source": [
    "a_ha_crop = a_pixels_crop * (pixel_size*pixel_size) / (100*100)\n",
    "print('A^[ha] crop = %f' % a_ha_crop)\n",
    "\n",
    "a_ha_noncrop = a_pixels_noncrop * (pixel_size*pixel_size) / (100*100)\n",
    "print('A^[ha] noncrop = %f' % a_ha_noncrop)"
   ]
  },
  {
   "cell_type": "markdown",
   "id": "7d93e4c2",
   "metadata": {},
   "source": [
    "The following equations are used to estimate the standard error for the area. They are based on the calculations in Olofsson et al., 2014."
   ]
  },
  {
   "cell_type": "code",
   "execution_count": null,
   "id": "7fcfeb74",
   "metadata": {},
   "outputs": [],
   "source": [
    "S_pk_crop = np.sqrt((wh_crop * tp_area - tp_area**2) / (tp + fp - 1) + \\\n",
    "                     (wh_noncrop * fn_area - fn_area**2) / (fn + tn - 1)) * tot_area_px\n",
    "print('S_pk_crop = %f' % S_pk_crop)\n",
    "\n",
    "S_pk_noncrop = np.sqrt((wh_crop * fp_area - fp_area**2) / (tp + fp - 1) + \\\n",
    "                        (wh_noncrop * tn_area - tn_area**2) / (fn + tn - 1)) * tot_area_px\n",
    "print('S_pk_noncrop = %f' % S_pk_noncrop)"
   ]
  },
  {
   "cell_type": "markdown",
   "id": "8913bcae",
   "metadata": {},
   "source": [
    "Multiply $S(p_k)$ by 1.96 to get the margin of error for the 95% confidence interval"
   ]
  },
  {
   "cell_type": "code",
   "execution_count": null,
   "id": "49665a5a",
   "metadata": {},
   "outputs": [],
   "source": [
    "a_pixels_crop_err = S_pk_crop * 1.96\n",
    "print('Crop area standard error 95%% confidence interval [pixels] = %f' % a_pixels_crop_err)\n",
    "\n",
    "a_pixels_noncrop_err = S_pk_noncrop * 1.96\n",
    "print('Non-crop area standard error 95%% confidence interval [pixels] = %f' % a_pixels_noncrop_err)"
   ]
  },
  {
   "cell_type": "code",
   "execution_count": null,
   "id": "2a0d9369",
   "metadata": {},
   "outputs": [],
   "source": [
    "a_ha_crop_err = a_pixels_crop_err * (pixel_size**2) / (100**2)\n",
    "print('Crop area standard error 95%% confidence interval [ha] = %f' % a_ha_crop_err)\n",
    "\n",
    "a_ha_noncrop_err = a_pixels_noncrop_err * (pixel_size**2) / (100**2)\n",
    "print('Non-crop area standard error 95%% confidence interval [ha] = %f' % a_ha_noncrop_err)"
   ]
  },
  {
   "cell_type": "markdown",
   "id": "c439e81e",
   "metadata": {},
   "source": [
    "Summary of the final estimates of accuracy and area with standard error at 95% confidence intervals:"
   ]
  },
  {
   "cell_type": "code",
   "execution_count": null,
   "id": "de476540",
   "metadata": {},
   "outputs": [],
   "source": [
    "summary = pd.DataFrame([[a_ha_crop, a_ha_noncrop],\n",
    "                        [a_ha_crop_err, a_ha_noncrop_err],\n",
    "                        [u_crop, u_noncrop],\n",
    "                        [u_crop_err, u_noncrop_err],\n",
    "                        [p_crop, p_noncrop],\n",
    "                        [p_crop_err, p_noncrop_err],\n",
    "                        [acc, acc],\n",
    "                        [acc_err, acc_err]\n",
    "                       ],\n",
    "                       index=pd.Index(['Estimated area [ha]', '95% CI of area [ha]', 'User accuracy',\n",
    "                                       '95% CI of user acc', 'Producer accuracy', '95% CI of prod acc',\n",
    "                                       'Overall accuracy', '95% CI of overall acc']),\n",
    "                       columns=['Crop', 'Non-crop'])\n",
    "\n",
    "summary.round(2)"
   ]
  },
  {
   "cell_type": "code",
   "execution_count": null,
   "id": "4b832419",
   "metadata": {},
   "outputs": [],
   "source": []
  },
  {
   "cell_type": "code",
   "execution_count": null,
   "id": "3e0d25f9",
   "metadata": {},
   "outputs": [],
   "source": []
  },
  {
   "cell_type": "code",
   "execution_count": null,
   "id": "630f887d",
   "metadata": {},
   "outputs": [],
   "source": []
  },
  {
   "cell_type": "code",
   "execution_count": null,
   "id": "0afba4c5",
   "metadata": {},
   "outputs": [],
   "source": []
  },
  {
   "cell_type": "code",
   "execution_count": null,
   "id": "12453ae5",
   "metadata": {},
   "outputs": [],
   "source": []
  }
 ],
 "metadata": {
  "kernelspec": {
   "display_name": "Python 3 (ipykernel)",
   "language": "python",
   "name": "python3"
  },
  "language_info": {
   "codemirror_mode": {
    "name": "ipython",
    "version": 3
   },
   "file_extension": ".py",
   "mimetype": "text/x-python",
   "name": "python",
   "nbconvert_exporter": "python",
   "pygments_lexer": "ipython3",
   "version": "3.7.11"
  }
 },
 "nbformat": 4,
 "nbformat_minor": 5
}
