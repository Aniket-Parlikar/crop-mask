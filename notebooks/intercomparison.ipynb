{
 "cells": [
  {
   "cell_type": "markdown",
   "metadata": {},
   "source": [
    "# Cropmap Intercomparison\n",
    "\n",
    "**Author:** Adam Yang (ayang115@umd.ed )\n",
    "\n",
    "**Description:** Runs comparison between labeled datasets and geotiff files. Inputs: file path for csv and tiff, respective projections, specifide subset, and json output option. \n",
    "Returns f1 score, crop precision & recall, and non-crop precision & recall. "
   ]
  },
  {
   "cell_type": "code",
   "execution_count": 1,
   "metadata": {},
   "outputs": [],
   "source": [
    "from intercomparison import run_comparison\n",
    "import json\n",
    "import os"
   ]
  },
  {
   "cell_type": "code",
   "execution_count": null,
   "metadata": {},
   "outputs": [],
   "source": [
    "with open('/content/drive/MyDrive/Cropharvest/Togo_data.json', 'w') as outfile:\n",
    "  dir = '/content/drive/MyDrive/Cropharvest/TogoBinaryMaps'\n",
    "  for tif in os.listdir(dir):\n",
    "    f = os.path.join(dir, tif)\n",
    "    json.dump(run_comparison(\"/content/drive/MyDrive/Cropharvest/HarvestData/togo.csv\", f, \"epsg:4326\", \"epsg:32631\", asJSON = True), outfile)"
   ]
  },
  {
   "cell_type": "code",
   "execution_count": null,
   "metadata": {},
   "outputs": [],
   "source": []
  }
 ],
 "metadata": {
  "kernelspec": {
   "display_name": "Python 3.6.15 ('landcover-mapping')",
   "language": "python",
   "name": "python3"
  },
  "language_info": {
   "codemirror_mode": {
    "name": "ipython",
    "version": 3
   },
   "file_extension": ".py",
   "mimetype": "text/x-python",
   "name": "python",
   "nbconvert_exporter": "python",
   "pygments_lexer": "ipython3",
   "version": "3.6.15"
  },
  "orig_nbformat": 4,
  "vscode": {
   "interpreter": {
    "hash": "1f9268fe690ac5f1ce804be9802876efea2519d11f20df2814e4b2f89ff63845"
   }
  }
 },
 "nbformat": 4,
 "nbformat_minor": 2
}
