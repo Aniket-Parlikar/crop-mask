{
 "cells": [
  {
   "cell_type": "markdown",
   "id": "a35713ef",
   "metadata": {},
   "source": [
    "# Does scene classification help cropland models?\n",
    "\n",
    "**Problem**: Cropland classification models based on single pixel time series have trouble distinguishing between crops and shrubs (chaparral) which have similar NDVI signatures.\n",
    "\n",
    "**Key idea**: use high resolution maps to improve cropland classification using single pixel time series.\n",
    "\n",
    "\n",
    "1. [x] Existing work (crop classification, scene classification)\n",
    "2. [x] Existing datasets\n",
    "3. [x] Getting data related to crop-mask labels\n",
    "4. [x] Organize dataset\n",
    "5. [x] Create dataloader\n",
    "6. [x] Make baseline model that classifies scenes as crop/non-crop (ResNet?) / data augmentation\n",
    "7. [ ] Decide on which model to use (best models on scene classification datasets)\n",
    "8. [ ] Evaluate performance (is crop and shrub failure mode addressed?)"
   ]
  },
  {
   "cell_type": "markdown",
   "id": "16caed4c",
   "metadata": {},
   "source": [
    "# 1. Existing Work\n",
    "### Existing cropland models\n",
    "\n",
    "Rapid Response Crop Maps in Data Sparse Regions\n",
    "- Model: Pixel-based LSTM\n",
    "- Data: Sentinel-2\n",
    "- Resolution: 10m\n",
    "- Region: Togo\n",
    "\n",
    "Global Food Security-support Analysis Data (GFSAD)\n",
    "- Model: Pixel-based random forest and pixel-based SVM, and a Recursive Hierarchical Image Segmentation classifier?\n",
    "- Data: ?\n",
    "- Resolution: 30m\n",
    "- Region: Africa\n",
    "- Note: Available for 2015 only\n",
    "\n",
    "Copernicus Map\n",
    "- Model: Random forests + expert rule\n",
    "- Data: PROBA-V sensor\n",
    "- Resolution: 100m\n",
    "- Note: Available for 2018\n",
    "- Region: Togo?\n",
    "\n",
    "Crop Area Mapping in Southern and Central Malawi With Google Earth Engine\n",
    "- Model: Random forest\n",
    "- Data: Sentinel-2 with Spectral Mixture Analysis\n",
    "- Resolution: 10m\n",
    "- Region: Malawi\n",
    "\n",
    "Estimating Global Cropland Extent with Multi-year MODIS Data\n",
    "- Model: Some sort of decision tree\n",
    "- Data: MODIS\n",
    "- Resolution: 250m\n",
    "- Region: THE WORLD\n",
    "\n",
    "### Models for classifying high resolution imagery\n",
    "Good overview of scene classification: https://arxiv.org/abs/2005.01094"
   ]
  },
  {
   "cell_type": "markdown",
   "id": "69d86865",
   "metadata": {},
   "source": [
    "# 2. Existing scene classification datasets\n",
    "Specifically looking for:\n",
    "- [ ] Should have crop/field class\n",
    "- [ ] Should have lot's of images\n",
    "- [ ] Should have high resolution images (ideally constant resolution <10m)\n",
    "- [ ] Should have images gathered from Africa\n",
    "\n",
    "From overview paper:\n",
    "- [ ] UC Merced - US only\n",
    "- [ ] SAT-4 and SAT-6 airborne datasets - US only\n",
    "- [x] NWPU-RESISC45 - data source Google Earth\n",
    "- [x] AID - data source Google Earth\n",
    "\n",
    "https://github.com/chrieke/awesome-satellite-imagery-datasets#4-scene-classification\n",
    "- [ ] fMow - too complicated https://github.com/fMoW/dataset\n",
    "\n",
    "NWPU-RESISC45\n",
    "- 45 classes, 700 images per class\n",
    "- Relevant classes: chaparral, circular_farmland, desert, forest, meadow, mountains, rectangular_farmland, terrace, wetland\n",
    "- Image size: 256x256\n",
    "- Resolution: 0.2 - 30m, can deal with this by getting XYZ tiles with multiple zoom levels\n",
    "- Concern: Some classes ie mountain have even lower resolution\n",
    "- Year: 2016\n",
    "\n",
    "AID\n",
    "- Concern: mainly in China, the United States, England, France, Italy, Japan, Germany\n",
    "- 30 classes, 200 to 400 samples of size \n",
    "- Image size: 600x600\n",
    "\n",
    "So far NWPU-RESISC45 seems like best option. Also because XYZ tiles are 256x256 by default."
   ]
  },
  {
   "cell_type": "markdown",
   "id": "b075eec7",
   "metadata": {},
   "source": [
    "# 3. Getting data related to crop-mask labels\n",
    "\n",
    "I have coordinates for a bunch of points, I need to get a 256x256 Google Satellite image for each of those\n",
    "\n",
    "URLs: https://opensourceoptions.com/blog/how-to-add-google-satellite-imagery-and-google-maps-to-qgis/"
   ]
  },
  {
   "cell_type": "markdown",
   "id": "6b3eff35",
   "metadata": {},
   "source": [
    "### Candidates\n",
    "Zoom: 16\n",
    "\n",
    "<img src=\"https://mt0.google.com/vt/lyrs=s&hl=en&x=38833&y=32489&z=16\" \n",
    "     width=\"30%\" \n",
    "     align=\"left\" \n",
    "     style=\"padding: 0 1em\"/>\n",
    "\n",
    "Zoom: 17\n",
    "\n",
    "<img src=\"https://mt0.google.com/vt/lyrs=s&hl=en&x=77668&y=64979&z=17\" \n",
    "     width=\"30%\" \n",
    "     align=\"left\" \n",
    "     style=\"padding: 0 1em\"/>\n",
    "     \n",
    "Zoom: 18\n",
    "\n",
    "<img src=\"https://mt0.google.com/vt/lyrs=s&hl=en&x=155336&y=129959&z=18\" \n",
    "     width=\"30%\" \n",
    "     align=\"left\" \n",
    "     style=\"padding: 0 1em\"/>\n",
    "But how to get tile XYZ from coordinate?"
   ]
  },
  {
   "cell_type": "code",
   "execution_count": 1,
   "id": "7df1bc76",
   "metadata": {},
   "outputs": [],
   "source": [
    "!pip install pyGeoTile -q"
   ]
  },
  {
   "cell_type": "code",
   "execution_count": 2,
   "id": "75892c5f",
   "metadata": {},
   "outputs": [],
   "source": [
    "from pygeotile.tile import Tile\n",
    "from IPython.display import Image as IPythonImage\n",
    "from IPython.core.display import HTML"
   ]
  },
  {
   "cell_type": "code",
   "execution_count": 3,
   "id": "075fc8d0",
   "metadata": {},
   "outputs": [
    {
     "data": {
      "text/html": [
       "<img src=\"https://mt0.google.com/vt/lyrs=s&hl=en&x=4480&y=3865&z=13\"/>"
      ],
      "text/plain": [
       "<IPython.core.display.Image object>"
      ]
     },
     "metadata": {},
     "output_type": "display_data"
    },
    {
     "data": {
      "text/html": [
       "<img src=\"https://mt0.google.com/vt/lyrs=s&hl=en&x=8961&y=7731&z=14\"/>"
      ],
      "text/plain": [
       "<IPython.core.display.Image object>"
      ]
     },
     "metadata": {},
     "output_type": "display_data"
    },
    {
     "data": {
      "text/html": [
       "<img src=\"https://mt0.google.com/vt/lyrs=s&hl=en&x=17922&y=15463&z=15\"/>"
      ],
      "text/plain": [
       "<IPython.core.display.Image object>"
      ]
     },
     "metadata": {},
     "output_type": "display_data"
    },
    {
     "data": {
      "text/html": [
       "<img src=\"https://mt0.google.com/vt/lyrs=s&hl=en&x=35845&y=30926&z=16\"/>"
      ],
      "text/plain": [
       "<IPython.core.display.Image object>"
      ]
     },
     "metadata": {},
     "output_type": "display_data"
    },
    {
     "data": {
      "text/html": [
       "<img src=\"https://mt0.google.com/vt/lyrs=s&hl=en&x=71690&y=61852&z=17\"/>"
      ],
      "text/plain": [
       "<IPython.core.display.Image object>"
      ]
     },
     "metadata": {},
     "output_type": "display_data"
    },
    {
     "data": {
      "text/html": [
       "<img src=\"https://mt0.google.com/vt/lyrs=s&hl=en&x=143380&y=123705&z=18\"/>"
      ],
      "text/plain": [
       "<IPython.core.display.Image object>"
      ]
     },
     "metadata": {},
     "output_type": "display_data"
    },
    {
     "data": {
      "text/html": [
       "<img src=\"https://mt0.google.com/vt/lyrs=s&hl=en&x=286761&y=247410&z=19\"/>"
      ],
      "text/plain": [
       "<IPython.core.display.Image object>"
      ]
     },
     "metadata": {},
     "output_type": "display_data"
    },
    {
     "data": {
      "text/html": [
       "<img src=\"https://mt0.google.com/vt/lyrs=s&hl=en&x=573523&y=494820&z=20\"/>"
      ],
      "text/plain": [
       "<IPython.core.display.Image object>"
      ]
     },
     "metadata": {},
     "output_type": "display_data"
    },
    {
     "data": {
      "text/html": [
       "<img src=\"https://mt0.google.com/vt/lyrs=s&hl=en&x=1147046&y=989641&z=21\"/>"
      ],
      "text/plain": [
       "<IPython.core.display.Image object>"
      ]
     },
     "metadata": {},
     "output_type": "display_data"
    }
   ],
   "source": [
    "latitude = 10.064603\n",
    "longitude = 16.903645\n",
    "imgs = {}\n",
    "for zoom in [13, 14, 15, 16, 17, 18, 19, 20, 21]:\n",
    "    tile = Tile.for_latitude_longitude(latitude, longitude, zoom)\n",
    "    img = IPythonImage(url=f\"https://mt0.google.com/vt/lyrs=s&hl=en&x={tile.google[0]}&y={tile.google[1]}&z={zoom}\")\n",
    "    imgs[zoom] = img\n",
    "\n",
    "display(*list(imgs.values()))"
   ]
  },
  {
   "cell_type": "markdown",
   "id": "bcd1ea41",
   "metadata": {},
   "source": [
    "# Combining Labels with tile URLs"
   ]
  },
  {
   "cell_type": "code",
   "execution_count": 6,
   "id": "f52798a0",
   "metadata": {},
   "outputs": [],
   "source": [
    "from tqdm.notebook import tqdm\n",
    "import pandas as pd\n",
    "import sys\n",
    "sys.path.append(\"..\")\n",
    "from src.datasets_labeled import labeled_datasets\n",
    "from src.ETL.constants import LAT, LON, SUBSET\n",
    "from notebook_utils import get_validation_df"
   ]
  },
  {
   "cell_type": "code",
   "execution_count": 45,
   "id": "427ace97",
   "metadata": {},
   "outputs": [],
   "source": [
    "ds = [\n",
    "    \"Ethiopia_Tigray_2020\",\n",
    "    #\"Ethiopia_Tigray_2021\",\n",
    "    \"geowiki_landcover_2017\",\n",
    "    \"digitalearthafrica_eastern\",\n",
    "    \"Ethiopia\",\n",
    "    \"Kenya\",\n",
    "    \"Mali\",\n",
    "    \"Rwanda\",\n",
    "    \"Togo\",\n",
    "    \"Ethiopia_Bure_Jimma_2019\",\n",
    "    \"Ethiopia_Bure_Jimma_2020\",\n",
    "]\n",
    "\n",
    "labels = pd.concat([d.load_labels() for d in labeled_datasets if d.dataset in ds])"
   ]
  },
  {
   "cell_type": "code",
   "execution_count": 46,
   "id": "d6ca7b10",
   "metadata": {},
   "outputs": [
    {
     "data": {
      "text/html": [
       "<div>\n",
       "<style scoped>\n",
       "    .dataframe tbody tr th:only-of-type {\n",
       "        vertical-align: middle;\n",
       "    }\n",
       "\n",
       "    .dataframe tbody tr th {\n",
       "        vertical-align: top;\n",
       "    }\n",
       "\n",
       "    .dataframe thead th {\n",
       "        text-align: right;\n",
       "    }\n",
       "</style>\n",
       "<table border=\"1\" class=\"dataframe\">\n",
       "  <thead>\n",
       "    <tr style=\"text-align: right;\">\n",
       "      <th></th>\n",
       "      <th>lon</th>\n",
       "      <th>lat</th>\n",
       "      <th>start_date</th>\n",
       "      <th>end_date</th>\n",
       "      <th>source</th>\n",
       "      <th>crop_probability</th>\n",
       "      <th>num_labelers</th>\n",
       "      <th>subset</th>\n",
       "      <th>crop_type</th>\n",
       "      <th>country</th>\n",
       "      <th>dataset</th>\n",
       "      <th>filename</th>\n",
       "      <th>feature_dir</th>\n",
       "      <th>save_path</th>\n",
       "      <th>already_exists</th>\n",
       "    </tr>\n",
       "  </thead>\n",
       "  <tbody>\n",
       "    <tr>\n",
       "      <th>0</th>\n",
       "      <td>46.25</td>\n",
       "      <td>-16.547619</td>\n",
       "      <td>2017-01-01</td>\n",
       "      <td>2018-12-31</td>\n",
       "      <td>loc_all_2.txt</td>\n",
       "      <td>0.000000</td>\n",
       "      <td>1</td>\n",
       "      <td>training</td>\n",
       "      <td>NaN</td>\n",
       "      <td>global</td>\n",
       "      <td>geowiki_landcover_2017</td>\n",
       "      <td>lat=-16.54761905_lon=46.25_date=2017-01-01_201...</td>\n",
       "      <td>../data/features</td>\n",
       "      <td>../data/features/lat=-16.54761905_lon=46.25_da...</td>\n",
       "      <td>True</td>\n",
       "    </tr>\n",
       "    <tr>\n",
       "      <th>1</th>\n",
       "      <td>48.25</td>\n",
       "      <td>-18.547619</td>\n",
       "      <td>2017-01-01</td>\n",
       "      <td>2018-12-31</td>\n",
       "      <td>loc_all_2.txt</td>\n",
       "      <td>0.136000</td>\n",
       "      <td>1</td>\n",
       "      <td>training</td>\n",
       "      <td>NaN</td>\n",
       "      <td>global</td>\n",
       "      <td>geowiki_landcover_2017</td>\n",
       "      <td>lat=-18.54761905_lon=48.25_date=2017-01-01_201...</td>\n",
       "      <td>../data/features</td>\n",
       "      <td>../data/features/lat=-18.54761905_lon=48.25_da...</td>\n",
       "      <td>True</td>\n",
       "    </tr>\n",
       "    <tr>\n",
       "      <th>2</th>\n",
       "      <td>44.25</td>\n",
       "      <td>-21.547619</td>\n",
       "      <td>2017-01-01</td>\n",
       "      <td>2018-12-31</td>\n",
       "      <td>loc_all_2.txt</td>\n",
       "      <td>0.000000</td>\n",
       "      <td>1</td>\n",
       "      <td>training</td>\n",
       "      <td>NaN</td>\n",
       "      <td>global</td>\n",
       "      <td>geowiki_landcover_2017</td>\n",
       "      <td>lat=-21.54761905_lon=44.25_date=2017-01-01_201...</td>\n",
       "      <td>../data/features</td>\n",
       "      <td>../data/features/lat=-21.54761905_lon=44.25_da...</td>\n",
       "      <td>True</td>\n",
       "    </tr>\n",
       "    <tr>\n",
       "      <th>3</th>\n",
       "      <td>45.25</td>\n",
       "      <td>-17.547619</td>\n",
       "      <td>2017-01-01</td>\n",
       "      <td>2018-12-31</td>\n",
       "      <td>loc_all_2.txt</td>\n",
       "      <td>0.073333</td>\n",
       "      <td>1</td>\n",
       "      <td>training</td>\n",
       "      <td>NaN</td>\n",
       "      <td>global</td>\n",
       "      <td>geowiki_landcover_2017</td>\n",
       "      <td>lat=-17.54761905_lon=45.25_date=2017-01-01_201...</td>\n",
       "      <td>../data/features</td>\n",
       "      <td>../data/features/lat=-17.54761905_lon=45.25_da...</td>\n",
       "      <td>True</td>\n",
       "    </tr>\n",
       "    <tr>\n",
       "      <th>4</th>\n",
       "      <td>46.25</td>\n",
       "      <td>-21.547619</td>\n",
       "      <td>2017-01-01</td>\n",
       "      <td>2018-12-31</td>\n",
       "      <td>loc_all_2.txt</td>\n",
       "      <td>0.000000</td>\n",
       "      <td>1</td>\n",
       "      <td>training</td>\n",
       "      <td>NaN</td>\n",
       "      <td>global</td>\n",
       "      <td>geowiki_landcover_2017</td>\n",
       "      <td>lat=-21.54761905_lon=46.25_date=2017-01-01_201...</td>\n",
       "      <td>../data/features</td>\n",
       "      <td>../data/features/lat=-21.54761905_lon=46.25_da...</td>\n",
       "      <td>True</td>\n",
       "    </tr>\n",
       "  </tbody>\n",
       "</table>\n",
       "</div>"
      ],
      "text/plain": [
       "     lon        lat  start_date    end_date         source  crop_probability  \\\n",
       "0  46.25 -16.547619  2017-01-01  2018-12-31  loc_all_2.txt          0.000000   \n",
       "1  48.25 -18.547619  2017-01-01  2018-12-31  loc_all_2.txt          0.136000   \n",
       "2  44.25 -21.547619  2017-01-01  2018-12-31  loc_all_2.txt          0.000000   \n",
       "3  45.25 -17.547619  2017-01-01  2018-12-31  loc_all_2.txt          0.073333   \n",
       "4  46.25 -21.547619  2017-01-01  2018-12-31  loc_all_2.txt          0.000000   \n",
       "\n",
       "   num_labelers    subset  crop_type country                 dataset  \\\n",
       "0             1  training        NaN  global  geowiki_landcover_2017   \n",
       "1             1  training        NaN  global  geowiki_landcover_2017   \n",
       "2             1  training        NaN  global  geowiki_landcover_2017   \n",
       "3             1  training        NaN  global  geowiki_landcover_2017   \n",
       "4             1  training        NaN  global  geowiki_landcover_2017   \n",
       "\n",
       "                                            filename       feature_dir  \\\n",
       "0  lat=-16.54761905_lon=46.25_date=2017-01-01_201...  ../data/features   \n",
       "1  lat=-18.54761905_lon=48.25_date=2017-01-01_201...  ../data/features   \n",
       "2  lat=-21.54761905_lon=44.25_date=2017-01-01_201...  ../data/features   \n",
       "3  lat=-17.54761905_lon=45.25_date=2017-01-01_201...  ../data/features   \n",
       "4  lat=-21.54761905_lon=46.25_date=2017-01-01_201...  ../data/features   \n",
       "\n",
       "                                           save_path  already_exists  \n",
       "0  ../data/features/lat=-16.54761905_lon=46.25_da...            True  \n",
       "1  ../data/features/lat=-18.54761905_lon=48.25_da...            True  \n",
       "2  ../data/features/lat=-21.54761905_lon=44.25_da...            True  \n",
       "3  ../data/features/lat=-17.54761905_lon=45.25_da...            True  \n",
       "4  ../data/features/lat=-21.54761905_lon=46.25_da...            True  "
      ]
     },
     "execution_count": 46,
     "metadata": {},
     "output_type": "execute_result"
    }
   ],
   "source": [
    "labels.head()"
   ]
  },
  {
   "cell_type": "code",
   "execution_count": 47,
   "id": "03214d8a",
   "metadata": {},
   "outputs": [
    {
     "data": {
      "application/vnd.jupyter.widget-view+json": {
       "model_id": "0c6af68dfb4d4de7bcc5ce03f6254d5b",
       "version_major": 2,
       "version_minor": 0
      },
      "text/plain": [
       "  0%|          | 0/9 [00:00<?, ?it/s]"
      ]
     },
     "metadata": {},
     "output_type": "display_data"
    }
   ],
   "source": [
    "# Create URLs for each zoom level\n",
    "def get_url_from_latlon(latitude, longitude, zoom):\n",
    "    tile = Tile.for_latitude_longitude(latitude, longitude, zoom)\n",
    "    return f\"https://mt0.google.com/vt/lyrs=s&hl=en&x={tile.google[0]}&y={tile.google[1]}&z={zoom}\"\n",
    "\n",
    "zoom_levels = [13, 14, 15, 16, 17, 18, 19, 20, 21]\n",
    "for zoom in tqdm(zoom_levels):\n",
    "    labels[f\"XYZ_zoom_{zoom}\"] = labels.apply(lambda row: get_url_from_latlon(row[LAT], row[LON], zoom), axis=1)"
   ]
  },
  {
   "cell_type": "code",
   "execution_count": 48,
   "id": "534a4341",
   "metadata": {},
   "outputs": [
    {
     "name": "stdout",
     "output_type": "stream",
     "text": [
      "lon                                                             46.25\n",
      "lat                                                          -16.5476\n",
      "start_date                                                 2017-01-01\n",
      "end_date                                                   2018-12-31\n",
      "source                                                  loc_all_2.txt\n",
      "crop_probability                                                    0\n",
      "num_labelers                                                        1\n",
      "subset                                                       training\n",
      "crop_type                                                         NaN\n",
      "country                                                        global\n",
      "dataset                                        geowiki_landcover_2017\n",
      "filename            lat=-16.54761905_lon=46.25_date=2017-01-01_201...\n",
      "feature_dir                                          ../data/features\n",
      "save_path           ../data/features/lat=-16.54761905_lon=46.25_da...\n",
      "already_exists                                                   True\n",
      "XYZ_zoom_13         https://mt0.google.com/vt/lyrs=s&hl=en&x=5148&...\n",
      "XYZ_zoom_14         https://mt0.google.com/vt/lyrs=s&hl=en&x=10296...\n",
      "XYZ_zoom_15         https://mt0.google.com/vt/lyrs=s&hl=en&x=20593...\n",
      "XYZ_zoom_16         https://mt0.google.com/vt/lyrs=s&hl=en&x=41187...\n",
      "XYZ_zoom_17         https://mt0.google.com/vt/lyrs=s&hl=en&x=82375...\n",
      "XYZ_zoom_18         https://mt0.google.com/vt/lyrs=s&hl=en&x=16475...\n",
      "XYZ_zoom_19         https://mt0.google.com/vt/lyrs=s&hl=en&x=32950...\n",
      "XYZ_zoom_20         https://mt0.google.com/vt/lyrs=s&hl=en&x=65900...\n",
      "XYZ_zoom_21         https://mt0.google.com/vt/lyrs=s&hl=en&x=13180...\n",
      "Name: 0, dtype: object\n"
     ]
    },
    {
     "data": {
      "text/html": [
       "<img src=\"https://mt0.google.com/vt/lyrs=s&hl=en&x=5148&y=4477&z=13\"/>"
      ],
      "text/plain": [
       "<IPython.core.display.Image object>"
      ]
     },
     "metadata": {},
     "output_type": "display_data"
    },
    {
     "data": {
      "text/html": [
       "<img src=\"https://mt0.google.com/vt/lyrs=s&hl=en&x=10296&y=8955&z=14\"/>"
      ],
      "text/plain": [
       "<IPython.core.display.Image object>"
      ]
     },
     "metadata": {},
     "output_type": "display_data"
    },
    {
     "data": {
      "text/html": [
       "<img src=\"https://mt0.google.com/vt/lyrs=s&hl=en&x=20593&y=17911&z=15\"/>"
      ],
      "text/plain": [
       "<IPython.core.display.Image object>"
      ]
     },
     "metadata": {},
     "output_type": "display_data"
    },
    {
     "data": {
      "text/html": [
       "<img src=\"https://mt0.google.com/vt/lyrs=s&hl=en&x=41187&y=35823&z=16\"/>"
      ],
      "text/plain": [
       "<IPython.core.display.Image object>"
      ]
     },
     "metadata": {},
     "output_type": "display_data"
    },
    {
     "data": {
      "text/html": [
       "<img src=\"https://mt0.google.com/vt/lyrs=s&hl=en&x=82375&y=71646&z=17\"/>"
      ],
      "text/plain": [
       "<IPython.core.display.Image object>"
      ]
     },
     "metadata": {},
     "output_type": "display_data"
    },
    {
     "data": {
      "text/html": [
       "<img src=\"https://mt0.google.com/vt/lyrs=s&hl=en&x=164750&y=143292&z=18\"/>"
      ],
      "text/plain": [
       "<IPython.core.display.Image object>"
      ]
     },
     "metadata": {},
     "output_type": "display_data"
    },
    {
     "data": {
      "text/html": [
       "<img src=\"https://mt0.google.com/vt/lyrs=s&hl=en&x=329500&y=286585&z=19\"/>"
      ],
      "text/plain": [
       "<IPython.core.display.Image object>"
      ]
     },
     "metadata": {},
     "output_type": "display_data"
    },
    {
     "data": {
      "text/html": [
       "<img src=\"https://mt0.google.com/vt/lyrs=s&hl=en&x=659000&y=573170&z=20\"/>"
      ],
      "text/plain": [
       "<IPython.core.display.Image object>"
      ]
     },
     "metadata": {},
     "output_type": "display_data"
    },
    {
     "data": {
      "text/html": [
       "<img src=\"https://mt0.google.com/vt/lyrs=s&hl=en&x=1318001&y=1146341&z=21\"/>"
      ],
      "text/plain": [
       "<IPython.core.display.Image object>"
      ]
     },
     "metadata": {},
     "output_type": "display_data"
    }
   ],
   "source": [
    "urls = [labels.iloc[0][f\"XYZ_zoom_{zoom}\"] for zoom in zoom_levels]\n",
    "images = [IPythonImage(url=url) for url in urls]\n",
    "print(labels.iloc[0])\n",
    "display(*images)"
   ]
  },
  {
   "cell_type": "markdown",
   "id": "be3a7aba",
   "metadata": {},
   "source": [
    "# 4. Organize dataset"
   ]
  },
  {
   "cell_type": "code",
   "execution_count": 49,
   "id": "10a3ed92",
   "metadata": {},
   "outputs": [
    {
     "name": "stdout",
     "output_type": "stream",
     "text": [
      "Train: 52281\n",
      "Validation: 499\n"
     ]
    }
   ],
   "source": [
    "val_df = labels[(labels[SUBSET] == \"validation\") & (labels[\"dataset\"] == \"Ethiopia_Tigray_2020\")].copy()\n",
    "train_df = labels[(labels[SUBSET] == \"training\")].copy()\n",
    "print(f\"Train: {len(train_df)}\")\n",
    "print(f\"Validation: {len(val_df)}\")"
   ]
  },
  {
   "cell_type": "code",
   "execution_count": 50,
   "id": "b6c8090c",
   "metadata": {},
   "outputs": [],
   "source": [
    "# For colab\n",
    "train_df.to_csv(\"spatial_awareness_train.csv\", index=False)\n",
    "val_df.to_csv(\"spatial_awareness_val.csv\", index=False)"
   ]
  },
  {
   "cell_type": "markdown",
   "id": "c0ada0ef",
   "metadata": {},
   "source": [
    "# 5. Create dataloader\n",
    "Since these are just RGB images, I'll use regular torchvision for simplicity instead of the cool new torchgeo."
   ]
  },
  {
   "cell_type": "code",
   "execution_count": 13,
   "id": "c43ec86d",
   "metadata": {},
   "outputs": [],
   "source": [
    "from io import BytesIO\n",
    "from PIL import Image\n",
    "from torch.utils.data import Dataset, DataLoader\n",
    "from torchvision import transforms\n",
    "from typing import Tuple\n",
    "\n",
    "import numpy as np\n",
    "import matplotlib.pyplot as plt\n",
    "import random\n",
    "import requests\n",
    "import torch"
   ]
  },
  {
   "cell_type": "code",
   "execution_count": 14,
   "id": "dd076560",
   "metadata": {},
   "outputs": [],
   "source": [
    "class CropSceneDataset(Dataset):\n",
    "    \n",
    "    def __init__(self, df: pd.DataFrame, zoom_levels: Tuple[int] = (14,)):\n",
    "        self.df = df\n",
    "        self.zoom_levels = zoom_levels\n",
    "        for zoom in self.zoom_levels:\n",
    "            assert zoom in [13, 14, 15, 16, 17, 18, 19, 20, 21]\n",
    "        \n",
    "    def __getitem__(self, index: int) -> Tuple:\n",
    "        row = self.df.iloc[index]\n",
    "        is_crop = row[\"crop_probability\"]\n",
    "        zoom = random.choice(zoom_levels) if len(zoom_levels) > 1 else zoom_levels[0]\n",
    "        url = row[f\"XYZ_zoom_{zoom}\"]\n",
    "        response = requests.get(url)\n",
    "        try:\n",
    "            img = Image.open(BytesIO(response.content))\n",
    "        except:\n",
    "            raise ValueError(f\"{index} contains an invalid image\")\n",
    "        return transforms.ToTensor()(img).unsqueeze(0), torch.tensor(is_crop).float()\n",
    "    \n",
    "    def __len__(self):\n",
    "        return len(self.df) * len(self.zoom_levels)\n",
    "    "
   ]
  },
  {
   "cell_type": "code",
   "execution_count": 15,
   "id": "9882bbb0",
   "metadata": {},
   "outputs": [],
   "source": [
    "train_dataset = CropSceneDataset(train_df.drop([4512]))\n",
    "val_dataset = CropSceneDataset(val_df)"
   ]
  },
  {
   "cell_type": "code",
   "execution_count": 16,
   "id": "0037b8b9",
   "metadata": {},
   "outputs": [],
   "source": [
    "train_loader = DataLoader(train_dataset, batch_size=32, shuffle=True, num_workers=0)\n",
    "val_loader = DataLoader(val_dataset, batch_size=32, shuffle=True, num_workers=0)"
   ]
  },
  {
   "cell_type": "code",
   "execution_count": 17,
   "id": "23ac3ede",
   "metadata": {},
   "outputs": [
    {
     "name": "stdout",
     "output_type": "stream",
     "text": [
      "Is crop: 0.0\n"
     ]
    },
    {
     "data": {
      "image/png": "[encoded data removed]",
      "text/plain": [
       "<Figure size 432x288 with 1 Axes>"
      ]
     },
     "metadata": {
      "needs_background": "light"
     },
     "output_type": "display_data"
    }
   ],
   "source": [
    "# Verify batch has legit images\n",
    "for batch in train_loader:\n",
    "    imgs, labels = batch\n",
    "    index = 5\n",
    "    print(f\"Is crop: {labels[index]}\")\n",
    "    plt.imshow(imgs[index][0].permute(1, 2, 0))\n",
    "    break"
   ]
  },
  {
   "cell_type": "markdown",
   "id": "66a0dc9d",
   "metadata": {},
   "source": [
    "# 6. Baseline model\n",
    "Will be running in colab to use GPU\n",
    "https://colab.research.google.com/drive/15jzLtP1I3ohmVxIFlhu1NwCSjx5cfOFQ?usp=sharing"
   ]
  },
  {
   "cell_type": "markdown",
   "id": "35609df1",
   "metadata": {},
   "source": [
    "# 7. Results comparison"
   ]
  },
  {
   "cell_type": "code",
   "execution_count": 25,
   "id": "8c646087",
   "metadata": {},
   "outputs": [],
   "source": [
    "# Ethiopia Tigray preds\n",
    "from notebook_utils import get_validation_df\n",
    "from sklearn.metrics import f1_score, accuracy_score"
   ]
  },
  {
   "cell_type": "code",
   "execution_count": 23,
   "id": "da35847f",
   "metadata": {},
   "outputs": [
    {
     "name": "stdout",
     "output_type": "stream",
     "text": [
      "Loading data into memory\n"
     ]
    },
    {
     "name": "stderr",
     "output_type": "stream",
     "text": [
      "Caching files: 100%|██████████| 499/499 [00:00<00:00, 1633.50it/s]\n"
     ]
    }
   ],
   "source": [
    "val_pixel_lstm = get_validation_df(\"Ethiopia_Tigray_2020\").reset_index(drop=True)"
   ]
  },
  {
   "cell_type": "code",
   "execution_count": 18,
   "id": "0488c3b1",
   "metadata": {},
   "outputs": [],
   "source": [
    "val_spatial_awareness = pd.read_csv(\"/Users/izvonkov/Desktop/spatial_awareness_with_crop_preds.csv\")"
   ]
  },
  {
   "cell_type": "code",
   "execution_count": 36,
   "id": "b50d32f0",
   "metadata": {},
   "outputs": [
    {
     "data": {
      "text/plain": [
       "True"
      ]
     },
     "execution_count": 36,
     "metadata": {},
     "output_type": "execute_result"
    }
   ],
   "source": [
    "# Sanity check\n",
    "(val_spatial_awareness[\"crop_probability\"] == val_pixel_lstm[\"y_true\"]).all()"
   ]
  },
  {
   "cell_type": "code",
   "execution_count": 37,
   "id": "20fcaa30",
   "metadata": {},
   "outputs": [],
   "source": [
    "y_true = val_spatial_awareness[\"crop_probability\"]"
   ]
  },
  {
   "cell_type": "code",
   "execution_count": 38,
   "id": "7c9802db",
   "metadata": {},
   "outputs": [
    {
     "data": {
      "text/plain": [
       "0.6584615384615384"
      ]
     },
     "execution_count": 38,
     "metadata": {},
     "output_type": "execute_result"
    }
   ],
   "source": [
    "f1_score(val_pixel_lstm[\"y_pred\"], y_true)"
   ]
  },
  {
   "cell_type": "code",
   "execution_count": 39,
   "id": "823a9275",
   "metadata": {},
   "outputs": [
    {
     "data": {
      "text/plain": [
       "0.4721311475409836"
      ]
     },
     "execution_count": 39,
     "metadata": {},
     "output_type": "execute_result"
    }
   ],
   "source": [
    "f1_score(val_spatial_awareness[\"spatial_awareness_preds\"] > 0.5, y_true)"
   ]
  },
  {
   "cell_type": "code",
   "execution_count": 35,
   "id": "9a8ba380",
   "metadata": {},
   "outputs": [],
   "source": [
    "combined = (val_spatial_awareness[\"spatial_awareness_preds\"] + val_pixel_lstm[\"y_pred_decimal\"])/2"
   ]
  },
  {
   "cell_type": "code",
   "execution_count": 41,
   "id": "b2c54d83",
   "metadata": {},
   "outputs": [
    {
     "data": {
      "text/plain": [
       "0.6410256410256409"
      ]
     },
     "execution_count": 41,
     "metadata": {},
     "output_type": "execute_result"
    }
   ],
   "source": [
    "f1_score(combined > 0.5, y_true)"
   ]
  },
  {
   "cell_type": "code",
   "execution_count": 42,
   "id": "9a672fb4",
   "metadata": {},
   "outputs": [
    {
     "data": {
      "text/plain": [
       "0.7755511022044088"
      ]
     },
     "execution_count": 42,
     "metadata": {},
     "output_type": "execute_result"
    }
   ],
   "source": [
    "accuracy_score(combined > 0.5, y_true)"
   ]
  },
  {
   "cell_type": "code",
   "execution_count": null,
   "id": "b33c4e5e",
   "metadata": {},
   "outputs": [],
   "source": []
  }
 ],
 "metadata": {
  "kernelspec": {
   "display_name": "Python 3",
   "language": "python",
   "name": "python3"
  },
  "language_info": {
   "codemirror_mode": {
    "name": "ipython",
    "version": 3
   },
   "file_extension": ".py",
   "mimetype": "text/x-python",
   "name": "python",
   "nbconvert_exporter": "python",
   "pygments_lexer": "ipython3",
   "version": "3.6.13"
  }
 },
 "nbformat": 4,
 "nbformat_minor": 5
}
